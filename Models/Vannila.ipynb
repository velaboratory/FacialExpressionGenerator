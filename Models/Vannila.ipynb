{
 "cells": [
  {
   "cell_type": "code",
   "execution_count": 1,
   "id": "13b4eaa7",
   "metadata": {},
   "outputs": [],
   "source": [
    "import time\n",
    "import cv2\n",
    "import os\n",
    "import glob\n",
    "import re\n",
    "import sys\n",
    "import random\n",
    "import numpy as np\n",
    "import pandas as pd\n",
    "import matplotlib.pyplot as plt\n",
    "from PIL import Image\n",
    "import matplotlib.image as mpimg\n",
    "from collections import OrderedDict\n",
    "from skimage import io, transform\n",
    "from math import *\n",
    "#import xml.etree.ElementTree as ET\n",
    "import imutils\n",
    "import torch\n",
    "import torchvision\n",
    "import torch.nn as nn\n",
    "import torch.optim as optim\n",
    "import torch.nn.functional as F\n",
    "import torchvision.transforms.functional as TF\n",
    "from torchvision import datasets, models, transforms\n",
    "from torch.utils.data import Dataset\n",
    "from torch.utils.data import DataLoader\n",
    "import torchvision.datasets as dset\n",
    "from torch.optim import lr_scheduler"
   ]
  },
  {
   "cell_type": "markdown",
   "id": "9907dac8",
   "metadata": {},
   "source": [
    "## 0. test on GPU/ CUDA/ PyTorch"
   ]
  },
  {
   "cell_type": "code",
   "execution_count": 2,
   "id": "84c8273a",
   "metadata": {},
   "outputs": [],
   "source": [
    "# Number of GPUs available. Use 0 for CPU mode.\n",
    "ngpu = 1\n",
    "\n",
    "# Decide which device we want to run on\n",
    "device = torch.device(\"cuda:0\" if (torch.cuda.is_available() and ngpu > 0) else \"cpu\")"
   ]
  },
  {
   "cell_type": "code",
   "execution_count": 3,
   "id": "531cbed9",
   "metadata": {},
   "outputs": [
    {
     "data": {
      "text/plain": [
       "device(type='cuda', index=0)"
      ]
     },
     "execution_count": 3,
     "metadata": {},
     "output_type": "execute_result"
    }
   ],
   "source": [
    "device"
   ]
  },
  {
   "cell_type": "markdown",
   "id": "03c6e05d",
   "metadata": {},
   "source": [
    "# 1. Data loading and visualized helper functions"
   ]
  },
  {
   "cell_type": "markdown",
   "id": "54c9686f",
   "metadata": {},
   "source": [
    "### 1.1 my self defined helper function and loader"
   ]
  },
  {
   "cell_type": "code",
   "execution_count": 4,
   "id": "f235f9b3",
   "metadata": {},
   "outputs": [],
   "source": [
    "def picshow(img,title=\"pics\"):\n",
    "    num = len(img)\n",
    "    ax = np.ceil(np.sqrt(num)) \n",
    "    ay = np.rint(np.sqrt(num)) \n",
    "    fig =plt.figure()\n",
    "    plt.title(title)\n",
    "    plt.axis(\"off\")\n",
    "    for i in range(1,num+1):\n",
    "        sub = fig.add_subplot(ax,ay,i)\n",
    "        #sub.set_title(\"titre\",i)\n",
    "        sub.axis('off')\n",
    "        sub.imshow(cv2.cvtColor(img[i-1].transpose(1, 2, 0),\n",
    "                                              cv2.COLOR_BGR2RGB))\n",
    "                                #cv2.normalize(, None, alpha=0.0, beta=1.0, \n",
    "                                #norm_type=cv2.NORM_MINMAX, dtype=cv2.CV_32F))\n",
    "        #.astype(np.uint8)\n",
    "    plt.show()"
   ]
  },
  {
   "cell_type": "code",
   "execution_count": 5,
   "id": "603440ed",
   "metadata": {},
   "outputs": [],
   "source": [
    "def imshowmarkers(inp, landmarks, title=None):\n",
    "    inp = inp.numpy().transpose((1, 2, 0))\n",
    "    plt.imshow(inp,cmap=\"gray\")\n",
    "    landmarks = (landmarks + 0.5)\n",
    "    img_shape = np.array(inp).shape\n",
    "    landmarks = landmarks * np.array([img_shape[1], img_shape[0]])\n",
    "    plt.scatter(landmarks[:,0], landmarks[:,1], c=\"r\", s=8);\n",
    "    if title is not None:\n",
    "        plt.title(title)"
   ]
  },
  {
   "cell_type": "code",
   "execution_count": 6,
   "id": "f37f88e8",
   "metadata": {},
   "outputs": [],
   "source": [
    "def imgloader(filepath):\n",
    "    filelist = glob.glob(folderpath+'/*.png')\n",
    "    filelist=[filelist[i] for i in file_list]\n",
    "    DataP= np.array([cv2.resize(cv2.normalize(cv2.imread(fname), None, alpha=0, beta=1, \n",
    "                                   norm_type=cv2.NORM_MINMAX,\n",
    "                                       dtype=cv2.CV_32F),(320,240)).transpose((2, 0, 1))\n",
    "                     for fname in filelist ])\n",
    "    return torch.from_numpy(DataP).to(device) "
   ]
  },
  {
   "cell_type": "code",
   "execution_count": 6,
   "id": "fa1a972d",
   "metadata": {},
   "outputs": [],
   "source": [
    "class GaussNoise(object):\n",
    "    def __init__(self,mean =0., std= 0.02):\n",
    "        self.std = std\n",
    "        self.mean = mean\n",
    "        #print(\"going\")\n",
    "    def __call__(self,tensor):\n",
    "        #print(\"running from GaussNoise class\") # wow!!!!\n",
    "        # won't be invoked during the dataset instance was called\n",
    "        # will be invoked during iteration on the dataset batch!!!!\n",
    "        return tensor+torch.randn(tensor.size())*self.std+self.mean\n",
    "    def __repr__(self):\n",
    "        return self.__class__.__name__ + ' adding gaussian noise'"
   ]
  },
  {
   "cell_type": "code",
   "execution_count": 7,
   "id": "3e486475",
   "metadata": {},
   "outputs": [],
   "source": [
    "def imshow(inp, title=None):\n",
    "    \"\"\"Imshow for Tensor.\"\"\"\n",
    "    inp = inp.numpy().transpose((1, 2, 0))\n",
    "    #mean = np.array([0.485, 0.456, 0.406]) # these magic number from imagenet\n",
    "    #std = np.array([0.229, 0.224, 0.225]) # \n",
    "    #inp = std * inp + mean\n",
    "    #inp = np.clip(inp, 0, 1) # valid image pixel intensity\n",
    "    plt.imshow(inp,cmap=\"gray\")\n",
    "    if title is not None:\n",
    "        plt.title(title)\n",
    "    plt.pause(0.001)  # pause a bit so that plots are updated"
   ]
  },
  {
   "cell_type": "markdown",
   "id": "52d93401",
   "metadata": {},
   "source": [
    "### 1.2 PyTorch default suite tool loader for binary classification"
   ]
  },
  {
   "cell_type": "code",
   "execution_count": 7,
   "id": "150a5a3c",
   "metadata": {
    "scrolled": true
   },
   "outputs": [
    {
     "name": "stdout",
     "output_type": "stream",
     "text": [
      "The length of Train set is 34214\n",
      "The length of Valid set is 3801\n"
     ]
    }
   ],
   "source": [
    "dataset = dset.ImageFolder(root=\"..\\..\\CategPercent\",\n",
    "                           transform=transforms.Compose([\n",
    "                               transforms.Grayscale(1),\n",
    "                               transforms.Resize((240,320)),\n",
    "                               transforms.ToTensor(), # scale [0,255] to [0,1]\n",
    "                               GaussNoise(), \n",
    "                               transforms.Normalize((0.5), (0.5))\n",
    "                                                        \n",
    "                           ]))\n",
    "# transforms.Normalize() # only one 0.5 as gray one channel # 1st arg mean, 2nd arg std\n",
    "#dataloader = torch.utils.data.DataLoader(dataset, batch_size=5, shuffle=True, num_workers=0)\n",
    "\n",
    "# split the dataset into validation and test sets\n",
    "len_valid_set = int(0.1*len(dataset))\n",
    "len_train_set = len(dataset) - len_valid_set\n",
    "\n",
    "print(\"The length of Train set is {}\".format(len_train_set))\n",
    "print(\"The length of Valid set is {}\".format(len_valid_set))\n",
    "\n",
    "train_dataset , valid_dataset, = torch.utils.data.random_split(dataset,[len_train_set, len_valid_set ])\n",
    "# shuffle and batch the datasets\n",
    "# num_workers was 4\n",
    "train_loader = torch.utils.data.DataLoader(train_dataset, batch_size=10, shuffle=True, num_workers=0)\n",
    "valid_loader = torch.utils.data.DataLoader(valid_dataset, batch_size=5, shuffle=True, num_workers=0)\n",
    "\n"
   ]
  },
  {
   "cell_type": "code",
   "execution_count": 8,
   "id": "0c4a227d",
   "metadata": {},
   "outputs": [],
   "source": [
    "#wrap it in a dict \n",
    "dataloaders = {'train': train_loader, 'val' : valid_loader }\n",
    "dataset_sizes = {'train': len_train_set, 'val' : len_valid_set   } "
   ]
  },
  {
   "cell_type": "markdown",
   "id": "90379599",
   "metadata": {},
   "source": [
    "### data with noise"
   ]
  },
  {
   "cell_type": "code",
   "execution_count": 9,
   "id": "0989bf0c",
   "metadata": {},
   "outputs": [],
   "source": [
    "batch_data = next(iter(train_dataset))"
   ]
  },
  {
   "cell_type": "code",
   "execution_count": 10,
   "id": "323e8570",
   "metadata": {},
   "outputs": [
    {
     "data": {
      "text/plain": [
       "tensor([-1.0678, -0.9835, -1.0051, -0.9437, -0.9919, -0.9844, -0.9722, -1.0478,\n",
       "        -0.9678, -0.9681])"
      ]
     },
     "execution_count": 10,
     "metadata": {},
     "output_type": "execute_result"
    }
   ],
   "source": [
    "batch_data[0][0][0][0:10]"
   ]
  },
  {
   "cell_type": "code",
   "execution_count": 11,
   "id": "e734f31b",
   "metadata": {
    "scrolled": true
   },
   "outputs": [
    {
     "ename": "NameError",
     "evalue": "name 'imshow' is not defined",
     "output_type": "error",
     "traceback": [
      "\u001b[1;31m---------------------------------------------------------------------------\u001b[0m",
      "\u001b[1;31mNameError\u001b[0m                                 Traceback (most recent call last)",
      "\u001b[1;32m<ipython-input-11-409a308ddfea>\u001b[0m in \u001b[0;36m<module>\u001b[1;34m\u001b[0m\n\u001b[1;32m----> 1\u001b[1;33m \u001b[0mimshow\u001b[0m\u001b[1;33m(\u001b[0m\u001b[0mbatch_data\u001b[0m\u001b[1;33m[\u001b[0m\u001b[1;36m0\u001b[0m\u001b[1;33m]\u001b[0m\u001b[1;33m)\u001b[0m\u001b[1;33m\u001b[0m\u001b[1;33m\u001b[0m\u001b[0m\n\u001b[0m",
      "\u001b[1;31mNameError\u001b[0m: name 'imshow' is not defined"
     ]
    }
   ],
   "source": [
    "imshow(batch_data[0])"
   ]
  },
  {
   "cell_type": "code",
   "execution_count": 65,
   "id": "3329b9a0",
   "metadata": {},
   "outputs": [
    {
     "data": {
      "text/plain": [
       "torch.Size([1, 240, 320])"
      ]
     },
     "execution_count": 65,
     "metadata": {},
     "output_type": "execute_result"
    }
   ],
   "source": [
    "batch_data[0].shape"
   ]
  },
  {
   "cell_type": "markdown",
   "id": "75790d08",
   "metadata": {},
   "source": [
    "### 1.3  PyTorch's customized loader like landmark"
   ]
  },
  {
   "cell_type": "code",
   "execution_count": 8,
   "id": "9e324865",
   "metadata": {},
   "outputs": [
    {
     "data": {
      "text/plain": [
       "'\\n\\n if self.transform:\\n            image, labels = self.transform(image, labels, self.crops[index])\\n'"
      ]
     },
     "execution_count": 8,
     "metadata": {},
     "output_type": "execute_result"
    }
   ],
   "source": [
    "#from typing import Callable, Optional\n",
    "\"\"\" \n",
    "class BespokenTransforms(object):\n",
    "    def __init__(self):\n",
    "        pass\n",
    "    \n",
    "    def rotate(self, image, labels, angle):\n",
    "        angle = random.uniform(-angle, +angle)\n",
    "\n",
    "        transformation_matrix = torch.tensor([\n",
    "            \n",
    "            [+cos(radians(angle)), -sin(radians(angle))], \n",
    "            [+sin(radians(angle)), +cos(radians(angle))]\n",
    "        ])\n",
    "\n",
    "        image = imutils.rotate(np.array(image), angle)\n",
    "        #image = ndimage.rotate(np.array(image), angle)\n",
    "\n",
    "        labels = labels - 0.5\n",
    "        new_labels = np.matmul(labels, transformation_matrix)\n",
    "        new_labels = new_labels + 0.5\n",
    "        return Image.fromarray(image), new_labels\n",
    "    \n",
    "    def resize(self, image, labels, img_size):\n",
    "        image = TF.resize(image, img_size)\n",
    "        return image, labels\n",
    "    \n",
    "    def AddGaussinNoise(self,image,labels,mean=0, std =1):    \n",
    "        return image+torch.randn(image.size())*std+mean,labels\n",
    "        \n",
    "    def color_jitter(self, image, labels):\n",
    "        color_jitter = transforms.ColorJitter(brightness=0.3, \n",
    "                                              contrast=0.3,\n",
    "                                              saturation=0.3, \n",
    "                                              hue=0.1)\n",
    "        image = color_jitter(image)\n",
    "        return image, labels\n",
    "\n",
    "    def crop_face(self, image, labels, crops):\n",
    "        left = int(crops['left'])\n",
    "        top = int(crops['top'])\n",
    "        width = int(crops['width'])\n",
    "        height = int(crops['height'])\n",
    "\n",
    "        image = TF.crop(image, top, left, height, width)\n",
    "\n",
    "        img_shape = np.array(image).shape\n",
    "        labels = torch.tensor(labels) - torch.tensor([[left, top]])\n",
    "        labels = labels / torch.tensor([img_shape[1], img_shape[0]])\n",
    "        return image, labels\n",
    "\n",
    "    def __call__(self, image):\n",
    "        labels = 6\n",
    "        print(\"running\")\n",
    "        #image = Image.fromarray(image)\n",
    "        #image, labels = self.crop_face(image, labels, crops)\n",
    "        image, labels = self.resize(image, labels, (240,320))\n",
    "        image, labels = self.color_jitter(image, labels)\n",
    "        #image, labels = self.rotate(image, labels, angle=10)\n",
    "        image, labels = self.AddGaussinNoise(image,labels)\n",
    "        print(\"going\")\n",
    "        image = TF.to_tensor(image)\n",
    "        image = TF.normalize(image, [0.5], [0.5])\n",
    "        return image#, labels\n",
    "    \n",
    "    def __repr__(self):\n",
    "        return self.__class__.__name__ + 'no way'\n",
    "    filtered= origin[np.sort(nparray[:,1].argsort() ) ] \n",
    "\"\"\"   \n",
    "\n",
    "#class CustomizedAugmentedDataset(dset.ImageFolder): #ImageFolder is 3xSub-class of Dataset\n",
    "# to have use dset.ImageFolder, have to deal with non clas label, tricky\n",
    "#and no clue to use default \n",
    "class CustomizedAugmentedDataset(Dataset):\n",
    "    def __init__(self, root: str, transform): \n",
    "        #super().__init__(root,transform=transform)\n",
    "        self.transform = transform\n",
    "        self.imageList = sorted(glob.glob(root+'/*.png'),\n",
    "                      key=lambda x:float(re.findall(\"(\\d+)\",x)[0])) # sorted by name:\n",
    "        self.labelList = sorted(glob.glob(root+'/*.csv'),\n",
    "                      key=lambda x:float(re.findall(\"(\\d+)\",x)[0])) # sorted by name:\n",
    "        if not len(self.imageList) == len(self.labelList):\n",
    "            raise TypeError(f\"images and labels amount do not match:\\\n",
    "                            got images:{len(self.imageList)} but labes: {len(self.labelList)} \")\n",
    "\n",
    "        #self.labels = []\n",
    "        #self.crops = []\n",
    "        #self.transform = transform\n",
    "        #self.root_dir = '.'\n",
    "        #self.labels = np.array(self.labels).astype('float32')     \n",
    "        #assert len(self.image_filenames) == len(self.labels)\n",
    "\n",
    "\n",
    "    def __len__(self):\n",
    "        return len(self.imageList)\n",
    "    def __getitem__(self, index):\n",
    "        image = Image.fromarray(cv2.imread(self.imageList[index], 0)) \n",
    "        if self.transform is not None:\n",
    "            image = self.transform(image)\n",
    "        #0: grayscale\n",
    "        #pytorch tools need RGB numpy or better PIL data and PyTorch Tensor input      \n",
    "        df = pd.read_csv( self.labelList[index], sep=',', header=None)\n",
    "        nparray = df.to_numpy()\n",
    "        origin = nparray.copy()\n",
    "        labels =  origin[np.sort(nparray[:,1].argsort() ) ].astype('float32')\n",
    "        img_shape = np.array(image).shape\n",
    "        labels = labels / np.array([img_shape[2], img_shape[1]])\n",
    "        \n",
    "        labels = labels - 0.5\n",
    "        return image, labels.astype('float32')\n",
    "    def __repr__(self):\n",
    "        return \" bespoken loader\"\n",
    "\"\"\"\n",
    "\n",
    " if self.transform:\n",
    "            image, labels = self.transform(image, labels, self.crops[index])\n",
    "\"\"\"\n",
    "#mh = heart()\n",
    "#CustomTransforms = BespokenTransforms() #transforms.Grayscale(1),   "
   ]
  },
  {
   "cell_type": "code",
   "execution_count": 29,
   "id": "1d85eb9b",
   "metadata": {},
   "outputs": [],
   "source": []
  },
  {
   "cell_type": "code",
   "execution_count": 9,
   "id": "acb9d3e1",
   "metadata": {},
   "outputs": [],
   "source": [
    "CustomDataset = CustomizedAugmentedDataset(root=\"../Output/landmark\",\n",
    "                                           transform=transforms.Compose([\n",
    "                                              transforms.ToTensor(),                      \n",
    "                                            GaussNoise(), \n",
    "                                           transforms.Normalize((0.5), (0.5))\n",
    "                                            ]))"
   ]
  },
  {
   "cell_type": "code",
   "execution_count": 26,
   "id": "24c037d8",
   "metadata": {
    "scrolled": true
   },
   "outputs": [
    {
     "data": {
      "text/plain": [
       "46256"
      ]
     },
     "execution_count": 26,
     "metadata": {},
     "output_type": "execute_result"
    }
   ],
   "source": [
    "len(CustomDataset)"
   ]
  },
  {
   "cell_type": "code",
   "execution_count": 10,
   "id": "04f094ad",
   "metadata": {},
   "outputs": [
    {
     "name": "stdout",
     "output_type": "stream",
     "text": [
      "The length of Train set is 41631\n",
      "The length of Valid set is 4625\n"
     ]
    }
   ],
   "source": [
    "# split the dataset into validation and test sets\n",
    "len_valid_sets = int(0.1*len(CustomDataset))\n",
    "len_train_sets = len(CustomDataset) - len_valid_sets\n",
    "\n",
    "print(\"The length of Train set is {}\".format(len_train_sets))\n",
    "print(\"The length of Valid set is {}\".format(len_valid_sets))\n",
    "\n",
    "train_datasets , valid_datasets = torch.utils.data.random_split(CustomDataset,\n",
    "                                                               [len_train_sets, len_valid_sets ])"
   ]
  },
  {
   "cell_type": "code",
   "execution_count": 11,
   "id": "3d748574",
   "metadata": {},
   "outputs": [],
   "source": [
    "train_loader = torch.utils.data.DataLoader(train_datasets, batch_size=64, shuffle=True, num_workers=0)\n",
    "valid_loader = torch.utils.data.DataLoader(valid_datasets, batch_size=8, shuffle=True, num_workers=0)"
   ]
  },
  {
   "cell_type": "code",
   "execution_count": 44,
   "id": "80cc1c18",
   "metadata": {},
   "outputs": [
    {
     "name": "stdout",
     "output_type": "stream",
     "text": [
      "(1, 480, 640)\n"
     ]
    }
   ],
   "source": [
    "img, label = next(iter(CustomDataset))"
   ]
  },
  {
   "cell_type": "code",
   "execution_count": 45,
   "id": "4bc7fdf9",
   "metadata": {},
   "outputs": [
    {
     "data": {
      "text/plain": [
       "array([0.11318374, 0.08590272])"
      ]
     },
     "execution_count": 45,
     "metadata": {},
     "output_type": "execute_result"
    }
   ],
   "source": [
    "label[0]"
   ]
  },
  {
   "cell_type": "code",
   "execution_count": 46,
   "id": "f844d41d",
   "metadata": {},
   "outputs": [
    {
     "data": {
      "image/png": "[encoded data removed]",
      "text/plain": [
       "<Figure size 432x288 with 1 Axes>"
      ]
     },
     "metadata": {
      "needs_background": "light"
     },
     "output_type": "display_data"
    }
   ],
   "source": [
    "imshowmarkers(img,label)"
   ]
  },
  {
   "cell_type": "code",
   "execution_count": 90,
   "id": "9f83375c",
   "metadata": {},
   "outputs": [
    {
     "ename": "AttributeError",
     "evalue": "",
     "output_type": "error",
     "traceback": [
      "\u001b[1;31m---------------------------------------------------------------------------\u001b[0m",
      "\u001b[1;31mAttributeError\u001b[0m                            Traceback (most recent call last)",
      "\u001b[1;32m<ipython-input-90-fbf125173849>\u001b[0m in \u001b[0;36m<module>\u001b[1;34m\u001b[0m\n\u001b[1;32m----> 1\u001b[1;33m \u001b[0mCustomDataset\u001b[0m\u001b[1;33m.\u001b[0m\u001b[0mextra_repr\u001b[0m\u001b[1;33m\u001b[0m\u001b[1;33m\u001b[0m\u001b[0m\n\u001b[0m",
      "\u001b[1;32mC:\\ProgramData\\Anaconda3\\lib\\site-packages\\torch\\utils\\data\\dataset.py\u001b[0m in \u001b[0;36m__getattr__\u001b[1;34m(self, attribute_name)\u001b[0m\n\u001b[0;32m     81\u001b[0m             \u001b[1;32mreturn\u001b[0m \u001b[0mfunction\u001b[0m\u001b[1;33m\u001b[0m\u001b[1;33m\u001b[0m\u001b[0m\n\u001b[0;32m     82\u001b[0m         \u001b[1;32melse\u001b[0m\u001b[1;33m:\u001b[0m\u001b[1;33m\u001b[0m\u001b[1;33m\u001b[0m\u001b[0m\n\u001b[1;32m---> 83\u001b[1;33m             \u001b[1;32mraise\u001b[0m \u001b[0mAttributeError\u001b[0m\u001b[1;33m\u001b[0m\u001b[1;33m\u001b[0m\u001b[0m\n\u001b[0m\u001b[0;32m     84\u001b[0m \u001b[1;33m\u001b[0m\u001b[0m\n\u001b[0;32m     85\u001b[0m     \u001b[1;33m@\u001b[0m\u001b[0mclassmethod\u001b[0m\u001b[1;33m\u001b[0m\u001b[1;33m\u001b[0m\u001b[0m\n",
      "\u001b[1;31mAttributeError\u001b[0m: "
     ]
    }
   ],
   "source": [
    "CustomDataset.extra_repr"
   ]
  },
  {
   "cell_type": "code",
   "execution_count": 34,
   "id": "bc790c2a",
   "metadata": {},
   "outputs": [
    {
     "data": {
      "text/plain": [
       "' \\n# split the dataset into validation and test sets\\nlen_valid_set = int(0.1*len(dataset))\\nlen_train_set = len(dataset) - len_valid_set\\n\\nprint(\"The length of Train set is {}\".format(len_train_set))\\nprint(\"The length of Valid set is {}\".format(len_valid_set))\\n\\ntrain_dataset , valid_dataset,  = torch.utils.data.random_split(dataset , \\n                                                                [len_train_set, len_valid_set])\\n\\n# shuffle and batch the datasets\\n# num_workers was 4\\ntrain_loader = torch.utils.data.DataLoader(train_dataset, batch_size=64, shuffle=True, num_workers=0)\\nvalid_loader = torch.utils.data.DataLoader(valid_dataset, batch_size=8, shuffle=True, num_workers=0)\\n'"
      ]
     },
     "execution_count": 34,
     "metadata": {},
     "output_type": "execute_result"
    }
   ],
   "source": [
    "\"\"\" \n",
    "# split the dataset into validation and test sets\n",
    "len_valid_set = int(0.1*len(dataset))\n",
    "len_train_set = len(dataset) - len_valid_set\n",
    "\n",
    "print(\"The length of Train set is {}\".format(len_train_set))\n",
    "print(\"The length of Valid set is {}\".format(len_valid_set))\n",
    "\n",
    "train_dataset , valid_dataset,  = torch.utils.data.random_split(dataset , \n",
    "                                                                [len_train_set, len_valid_set])\n",
    "\n",
    "# shuffle and batch the datasets\n",
    "# num_workers was 4\n",
    "train_loader = torch.utils.data.DataLoader(train_dataset, batch_size=64, shuffle=True, num_workers=0)\n",
    "valid_loader = torch.utils.data.DataLoader(valid_dataset, batch_size=8, shuffle=True, num_workers=0)\n",
    "\"\"\""
   ]
  },
  {
   "cell_type": "code",
   "execution_count": 35,
   "id": "842c836d",
   "metadata": {},
   "outputs": [],
   "source": [
    "#CustomDataset.classes"
   ]
  },
  {
   "cell_type": "code",
   "execution_count": null,
   "id": "ba7ae7b4",
   "metadata": {},
   "outputs": [],
   "source": [
    " "
   ]
  },
  {
   "cell_type": "markdown",
   "id": "14b8da20",
   "metadata": {},
   "source": [
    "# 2. CNN Models"
   ]
  },
  {
   "cell_type": "markdown",
   "id": "eacf4fe1",
   "metadata": {},
   "source": [
    "### 2.1 resnet18 for landmarks"
   ]
  },
  {
   "cell_type": "code",
   "execution_count": 12,
   "id": "bf972e7b",
   "metadata": {},
   "outputs": [],
   "source": [
    "class Network(nn.Module):\n",
    "    def __init__(self,num_classes = 4 * 2): # 4 pairs of 2d coordinate as x,y\n",
    "        super().__init__()\n",
    "        self.model_name='resnet18'\n",
    "        #torch.nn.Conv2d(in_channels, out_channels, kernel_size, stride=1, padding=0, dilation=1, \n",
    "            #groups=1, bias=True, padding_mode='zeros', device=None, dtype=None) \n",
    "        self.firstlayer=nn.Conv2d(1, 32, kernel_size=7, stride=2, padding=3, bias=False)\n",
    "        self.model=models.resnet18()\n",
    "        self.model.conv1=nn.Conv2d(32, 64, kernel_size=7, stride=2, padding=3, bias=False)\n",
    "        self.model.fc=nn.Linear(self.model.fc.in_features, num_classes)\n",
    "        \n",
    "    def forward(self, x):\n",
    "        x=self.model(self.firstlayer(x))\n",
    "        return x"
   ]
  },
  {
   "cell_type": "code",
   "execution_count": 13,
   "id": "b6e6e837",
   "metadata": {},
   "outputs": [],
   "source": [
    "torch.autograd.set_detect_anomaly(True)\n",
    "network = Network()\n",
    "network.cuda()    \n",
    "\n",
    "criterion = nn.MSELoss()\n",
    "optimizer = optim.Adam(network.parameters(), lr=0.0001)\n",
    "\n",
    "loss_min = np.inf\n",
    "num_epochs = 10"
   ]
  },
  {
   "cell_type": "code",
   "execution_count": 14,
   "id": "281ee4a4",
   "metadata": {},
   "outputs": [],
   "source": [
    "def print_overwrite(step, total_step, loss, operation):\n",
    "    sys.stdout.write('\\r')\n",
    "    if operation == 'train':\n",
    "        sys.stdout.write(\"Train Steps: %d/%d  Loss: %.4f \" % (step, total_step, loss))   \n",
    "    else:\n",
    "        sys.stdout.write(\"Valid Steps: %d/%d  Loss: %.4f \" % (step, total_step, loss))\n",
    "        \n",
    "    sys.stdout.flush()"
   ]
  },
  {
   "cell_type": "code",
   "execution_count": 15,
   "id": "1bb3f8e9",
   "metadata": {},
   "outputs": [
    {
     "name": "stdout",
     "output_type": "stream",
     "text": [
      "Valid Steps: 579/579  Loss: 0.0001 \n",
      "--------------------------------------------------\n",
      "Epoch: 1  Train Loss: 0.0012  Valid Loss: 0.0001\n",
      "--------------------------------------------------\n",
      "\n",
      "Minimum Validation Loss of 0.0001 at epoch 1/10\n",
      "Model Saved\n",
      "\n",
      "Valid Steps: 579/579  Loss: 0.0001 \n",
      "--------------------------------------------------\n",
      "Epoch: 2  Train Loss: 0.0001  Valid Loss: 0.0001\n",
      "--------------------------------------------------\n",
      "Valid Steps: 579/579  Loss: 0.0001 \n",
      "--------------------------------------------------\n",
      "Epoch: 3  Train Loss: 0.0001  Valid Loss: 0.0001\n",
      "--------------------------------------------------\n",
      "\n",
      "Minimum Validation Loss of 0.0001 at epoch 3/10\n",
      "Model Saved\n",
      "\n",
      "Valid Steps: 579/579  Loss: 0.0000 \n",
      "--------------------------------------------------\n",
      "Epoch: 4  Train Loss: 0.0001  Valid Loss: 0.0000\n",
      "--------------------------------------------------\n",
      "\n",
      "Minimum Validation Loss of 0.0000 at epoch 4/10\n",
      "Model Saved\n",
      "\n",
      "Train Steps: 543/651  Loss: 0.0000 "
     ]
    },
    {
     "ename": "KeyboardInterrupt",
     "evalue": "",
     "output_type": "error",
     "traceback": [
      "\u001b[1;31m---------------------------------------------------------------------------\u001b[0m",
      "\u001b[1;31mKeyboardInterrupt\u001b[0m                         Traceback (most recent call last)",
      "\u001b[1;32m<ipython-input-15-5c2d241e4fe3>\u001b[0m in \u001b[0;36m<module>\u001b[1;34m\u001b[0m\n\u001b[0;32m      9\u001b[0m     \u001b[1;32mfor\u001b[0m \u001b[0mstep\u001b[0m \u001b[1;32min\u001b[0m \u001b[0mrange\u001b[0m\u001b[1;33m(\u001b[0m\u001b[1;36m1\u001b[0m\u001b[1;33m,\u001b[0m\u001b[0mlen\u001b[0m\u001b[1;33m(\u001b[0m\u001b[0mtrain_loader\u001b[0m\u001b[1;33m)\u001b[0m\u001b[1;33m+\u001b[0m\u001b[1;36m1\u001b[0m\u001b[1;33m)\u001b[0m\u001b[1;33m:\u001b[0m\u001b[1;33m\u001b[0m\u001b[1;33m\u001b[0m\u001b[0m\n\u001b[0;32m     10\u001b[0m \u001b[1;33m\u001b[0m\u001b[0m\n\u001b[1;32m---> 11\u001b[1;33m         \u001b[0mimages\u001b[0m\u001b[1;33m,\u001b[0m \u001b[0mlandmarks\u001b[0m \u001b[1;33m=\u001b[0m \u001b[0mnext\u001b[0m\u001b[1;33m(\u001b[0m\u001b[0miter\u001b[0m\u001b[1;33m(\u001b[0m\u001b[0mtrain_loader\u001b[0m\u001b[1;33m)\u001b[0m\u001b[1;33m)\u001b[0m\u001b[1;33m\u001b[0m\u001b[1;33m\u001b[0m\u001b[0m\n\u001b[0m\u001b[0;32m     12\u001b[0m \u001b[1;33m\u001b[0m\u001b[0m\n\u001b[0;32m     13\u001b[0m         \u001b[0mimages\u001b[0m \u001b[1;33m=\u001b[0m \u001b[0mimages\u001b[0m\u001b[1;33m.\u001b[0m\u001b[0mcuda\u001b[0m\u001b[1;33m(\u001b[0m\u001b[1;33m)\u001b[0m\u001b[1;33m\u001b[0m\u001b[1;33m\u001b[0m\u001b[0m\n",
      "\u001b[1;32mC:\\ProgramData\\Anaconda3\\lib\\site-packages\\torch\\utils\\data\\dataloader.py\u001b[0m in \u001b[0;36m__next__\u001b[1;34m(self)\u001b[0m\n\u001b[0;32m    519\u001b[0m             \u001b[1;32mif\u001b[0m \u001b[0mself\u001b[0m\u001b[1;33m.\u001b[0m\u001b[0m_sampler_iter\u001b[0m \u001b[1;32mis\u001b[0m \u001b[1;32mNone\u001b[0m\u001b[1;33m:\u001b[0m\u001b[1;33m\u001b[0m\u001b[1;33m\u001b[0m\u001b[0m\n\u001b[0;32m    520\u001b[0m                 \u001b[0mself\u001b[0m\u001b[1;33m.\u001b[0m\u001b[0m_reset\u001b[0m\u001b[1;33m(\u001b[0m\u001b[1;33m)\u001b[0m\u001b[1;33m\u001b[0m\u001b[1;33m\u001b[0m\u001b[0m\n\u001b[1;32m--> 521\u001b[1;33m             \u001b[0mdata\u001b[0m \u001b[1;33m=\u001b[0m \u001b[0mself\u001b[0m\u001b[1;33m.\u001b[0m\u001b[0m_next_data\u001b[0m\u001b[1;33m(\u001b[0m\u001b[1;33m)\u001b[0m\u001b[1;33m\u001b[0m\u001b[1;33m\u001b[0m\u001b[0m\n\u001b[0m\u001b[0;32m    522\u001b[0m             \u001b[0mself\u001b[0m\u001b[1;33m.\u001b[0m\u001b[0m_num_yielded\u001b[0m \u001b[1;33m+=\u001b[0m \u001b[1;36m1\u001b[0m\u001b[1;33m\u001b[0m\u001b[1;33m\u001b[0m\u001b[0m\n\u001b[0;32m    523\u001b[0m             \u001b[1;32mif\u001b[0m \u001b[0mself\u001b[0m\u001b[1;33m.\u001b[0m\u001b[0m_dataset_kind\u001b[0m \u001b[1;33m==\u001b[0m \u001b[0m_DatasetKind\u001b[0m\u001b[1;33m.\u001b[0m\u001b[0mIterable\u001b[0m \u001b[1;32mand\u001b[0m\u001b[0;31m \u001b[0m\u001b[0;31m\\\u001b[0m\u001b[1;33m\u001b[0m\u001b[1;33m\u001b[0m\u001b[0m\n",
      "\u001b[1;32mC:\\ProgramData\\Anaconda3\\lib\\site-packages\\torch\\utils\\data\\dataloader.py\u001b[0m in \u001b[0;36m_next_data\u001b[1;34m(self)\u001b[0m\n\u001b[0;32m    559\u001b[0m     \u001b[1;32mdef\u001b[0m \u001b[0m_next_data\u001b[0m\u001b[1;33m(\u001b[0m\u001b[0mself\u001b[0m\u001b[1;33m)\u001b[0m\u001b[1;33m:\u001b[0m\u001b[1;33m\u001b[0m\u001b[1;33m\u001b[0m\u001b[0m\n\u001b[0;32m    560\u001b[0m         \u001b[0mindex\u001b[0m \u001b[1;33m=\u001b[0m \u001b[0mself\u001b[0m\u001b[1;33m.\u001b[0m\u001b[0m_next_index\u001b[0m\u001b[1;33m(\u001b[0m\u001b[1;33m)\u001b[0m  \u001b[1;31m# may raise StopIteration\u001b[0m\u001b[1;33m\u001b[0m\u001b[1;33m\u001b[0m\u001b[0m\n\u001b[1;32m--> 561\u001b[1;33m         \u001b[0mdata\u001b[0m \u001b[1;33m=\u001b[0m \u001b[0mself\u001b[0m\u001b[1;33m.\u001b[0m\u001b[0m_dataset_fetcher\u001b[0m\u001b[1;33m.\u001b[0m\u001b[0mfetch\u001b[0m\u001b[1;33m(\u001b[0m\u001b[0mindex\u001b[0m\u001b[1;33m)\u001b[0m  \u001b[1;31m# may raise StopIteration\u001b[0m\u001b[1;33m\u001b[0m\u001b[1;33m\u001b[0m\u001b[0m\n\u001b[0m\u001b[0;32m    562\u001b[0m         \u001b[1;32mif\u001b[0m \u001b[0mself\u001b[0m\u001b[1;33m.\u001b[0m\u001b[0m_pin_memory\u001b[0m\u001b[1;33m:\u001b[0m\u001b[1;33m\u001b[0m\u001b[1;33m\u001b[0m\u001b[0m\n\u001b[0;32m    563\u001b[0m             \u001b[0mdata\u001b[0m \u001b[1;33m=\u001b[0m \u001b[0m_utils\u001b[0m\u001b[1;33m.\u001b[0m\u001b[0mpin_memory\u001b[0m\u001b[1;33m.\u001b[0m\u001b[0mpin_memory\u001b[0m\u001b[1;33m(\u001b[0m\u001b[0mdata\u001b[0m\u001b[1;33m)\u001b[0m\u001b[1;33m\u001b[0m\u001b[1;33m\u001b[0m\u001b[0m\n",
      "\u001b[1;32mC:\\ProgramData\\Anaconda3\\lib\\site-packages\\torch\\utils\\data\\_utils\\fetch.py\u001b[0m in \u001b[0;36mfetch\u001b[1;34m(self, possibly_batched_index)\u001b[0m\n\u001b[0;32m     47\u001b[0m     \u001b[1;32mdef\u001b[0m \u001b[0mfetch\u001b[0m\u001b[1;33m(\u001b[0m\u001b[0mself\u001b[0m\u001b[1;33m,\u001b[0m \u001b[0mpossibly_batched_index\u001b[0m\u001b[1;33m)\u001b[0m\u001b[1;33m:\u001b[0m\u001b[1;33m\u001b[0m\u001b[1;33m\u001b[0m\u001b[0m\n\u001b[0;32m     48\u001b[0m         \u001b[1;32mif\u001b[0m \u001b[0mself\u001b[0m\u001b[1;33m.\u001b[0m\u001b[0mauto_collation\u001b[0m\u001b[1;33m:\u001b[0m\u001b[1;33m\u001b[0m\u001b[1;33m\u001b[0m\u001b[0m\n\u001b[1;32m---> 49\u001b[1;33m             \u001b[0mdata\u001b[0m \u001b[1;33m=\u001b[0m \u001b[1;33m[\u001b[0m\u001b[0mself\u001b[0m\u001b[1;33m.\u001b[0m\u001b[0mdataset\u001b[0m\u001b[1;33m[\u001b[0m\u001b[0midx\u001b[0m\u001b[1;33m]\u001b[0m \u001b[1;32mfor\u001b[0m \u001b[0midx\u001b[0m \u001b[1;32min\u001b[0m \u001b[0mpossibly_batched_index\u001b[0m\u001b[1;33m]\u001b[0m\u001b[1;33m\u001b[0m\u001b[1;33m\u001b[0m\u001b[0m\n\u001b[0m\u001b[0;32m     50\u001b[0m         \u001b[1;32melse\u001b[0m\u001b[1;33m:\u001b[0m\u001b[1;33m\u001b[0m\u001b[1;33m\u001b[0m\u001b[0m\n\u001b[0;32m     51\u001b[0m             \u001b[0mdata\u001b[0m \u001b[1;33m=\u001b[0m \u001b[0mself\u001b[0m\u001b[1;33m.\u001b[0m\u001b[0mdataset\u001b[0m\u001b[1;33m[\u001b[0m\u001b[0mpossibly_batched_index\u001b[0m\u001b[1;33m]\u001b[0m\u001b[1;33m\u001b[0m\u001b[1;33m\u001b[0m\u001b[0m\n",
      "\u001b[1;32mC:\\ProgramData\\Anaconda3\\lib\\site-packages\\torch\\utils\\data\\_utils\\fetch.py\u001b[0m in \u001b[0;36m<listcomp>\u001b[1;34m(.0)\u001b[0m\n\u001b[0;32m     47\u001b[0m     \u001b[1;32mdef\u001b[0m \u001b[0mfetch\u001b[0m\u001b[1;33m(\u001b[0m\u001b[0mself\u001b[0m\u001b[1;33m,\u001b[0m \u001b[0mpossibly_batched_index\u001b[0m\u001b[1;33m)\u001b[0m\u001b[1;33m:\u001b[0m\u001b[1;33m\u001b[0m\u001b[1;33m\u001b[0m\u001b[0m\n\u001b[0;32m     48\u001b[0m         \u001b[1;32mif\u001b[0m \u001b[0mself\u001b[0m\u001b[1;33m.\u001b[0m\u001b[0mauto_collation\u001b[0m\u001b[1;33m:\u001b[0m\u001b[1;33m\u001b[0m\u001b[1;33m\u001b[0m\u001b[0m\n\u001b[1;32m---> 49\u001b[1;33m             \u001b[0mdata\u001b[0m \u001b[1;33m=\u001b[0m \u001b[1;33m[\u001b[0m\u001b[0mself\u001b[0m\u001b[1;33m.\u001b[0m\u001b[0mdataset\u001b[0m\u001b[1;33m[\u001b[0m\u001b[0midx\u001b[0m\u001b[1;33m]\u001b[0m \u001b[1;32mfor\u001b[0m \u001b[0midx\u001b[0m \u001b[1;32min\u001b[0m \u001b[0mpossibly_batched_index\u001b[0m\u001b[1;33m]\u001b[0m\u001b[1;33m\u001b[0m\u001b[1;33m\u001b[0m\u001b[0m\n\u001b[0m\u001b[0;32m     50\u001b[0m         \u001b[1;32melse\u001b[0m\u001b[1;33m:\u001b[0m\u001b[1;33m\u001b[0m\u001b[1;33m\u001b[0m\u001b[0m\n\u001b[0;32m     51\u001b[0m             \u001b[0mdata\u001b[0m \u001b[1;33m=\u001b[0m \u001b[0mself\u001b[0m\u001b[1;33m.\u001b[0m\u001b[0mdataset\u001b[0m\u001b[1;33m[\u001b[0m\u001b[0mpossibly_batched_index\u001b[0m\u001b[1;33m]\u001b[0m\u001b[1;33m\u001b[0m\u001b[1;33m\u001b[0m\u001b[0m\n",
      "\u001b[1;32mC:\\ProgramData\\Anaconda3\\lib\\site-packages\\torch\\utils\\data\\dataset.py\u001b[0m in \u001b[0;36m__getitem__\u001b[1;34m(self, idx)\u001b[0m\n\u001b[0;32m    361\u001b[0m         \u001b[1;32mif\u001b[0m \u001b[0misinstance\u001b[0m\u001b[1;33m(\u001b[0m\u001b[0midx\u001b[0m\u001b[1;33m,\u001b[0m \u001b[0mlist\u001b[0m\u001b[1;33m)\u001b[0m\u001b[1;33m:\u001b[0m\u001b[1;33m\u001b[0m\u001b[1;33m\u001b[0m\u001b[0m\n\u001b[0;32m    362\u001b[0m             \u001b[1;32mreturn\u001b[0m \u001b[0mself\u001b[0m\u001b[1;33m.\u001b[0m\u001b[0mdataset\u001b[0m\u001b[1;33m[\u001b[0m\u001b[1;33m[\u001b[0m\u001b[0mself\u001b[0m\u001b[1;33m.\u001b[0m\u001b[0mindices\u001b[0m\u001b[1;33m[\u001b[0m\u001b[0mi\u001b[0m\u001b[1;33m]\u001b[0m \u001b[1;32mfor\u001b[0m \u001b[0mi\u001b[0m \u001b[1;32min\u001b[0m \u001b[0midx\u001b[0m\u001b[1;33m]\u001b[0m\u001b[1;33m]\u001b[0m\u001b[1;33m\u001b[0m\u001b[1;33m\u001b[0m\u001b[0m\n\u001b[1;32m--> 363\u001b[1;33m         \u001b[1;32mreturn\u001b[0m \u001b[0mself\u001b[0m\u001b[1;33m.\u001b[0m\u001b[0mdataset\u001b[0m\u001b[1;33m[\u001b[0m\u001b[0mself\u001b[0m\u001b[1;33m.\u001b[0m\u001b[0mindices\u001b[0m\u001b[1;33m[\u001b[0m\u001b[0midx\u001b[0m\u001b[1;33m]\u001b[0m\u001b[1;33m]\u001b[0m\u001b[1;33m\u001b[0m\u001b[1;33m\u001b[0m\u001b[0m\n\u001b[0m\u001b[0;32m    364\u001b[0m \u001b[1;33m\u001b[0m\u001b[0m\n\u001b[0;32m    365\u001b[0m     \u001b[1;32mdef\u001b[0m \u001b[0m__len__\u001b[0m\u001b[1;33m(\u001b[0m\u001b[0mself\u001b[0m\u001b[1;33m)\u001b[0m\u001b[1;33m:\u001b[0m\u001b[1;33m\u001b[0m\u001b[1;33m\u001b[0m\u001b[0m\n",
      "\u001b[1;32m<ipython-input-8-dc4a6884b608>\u001b[0m in \u001b[0;36m__getitem__\u001b[1;34m(self, index)\u001b[0m\n\u001b[0;32m     97\u001b[0m         \u001b[0mimage\u001b[0m \u001b[1;33m=\u001b[0m \u001b[0mImage\u001b[0m\u001b[1;33m.\u001b[0m\u001b[0mfromarray\u001b[0m\u001b[1;33m(\u001b[0m\u001b[0mcv2\u001b[0m\u001b[1;33m.\u001b[0m\u001b[0mimread\u001b[0m\u001b[1;33m(\u001b[0m\u001b[0mself\u001b[0m\u001b[1;33m.\u001b[0m\u001b[0mimageList\u001b[0m\u001b[1;33m[\u001b[0m\u001b[0mindex\u001b[0m\u001b[1;33m]\u001b[0m\u001b[1;33m,\u001b[0m \u001b[1;36m0\u001b[0m\u001b[1;33m)\u001b[0m\u001b[1;33m)\u001b[0m\u001b[1;33m\u001b[0m\u001b[1;33m\u001b[0m\u001b[0m\n\u001b[0;32m     98\u001b[0m         \u001b[1;32mif\u001b[0m \u001b[0mself\u001b[0m\u001b[1;33m.\u001b[0m\u001b[0mtransform\u001b[0m \u001b[1;32mis\u001b[0m \u001b[1;32mnot\u001b[0m \u001b[1;32mNone\u001b[0m\u001b[1;33m:\u001b[0m\u001b[1;33m\u001b[0m\u001b[1;33m\u001b[0m\u001b[0m\n\u001b[1;32m---> 99\u001b[1;33m             \u001b[0mimage\u001b[0m \u001b[1;33m=\u001b[0m \u001b[0mself\u001b[0m\u001b[1;33m.\u001b[0m\u001b[0mtransform\u001b[0m\u001b[1;33m(\u001b[0m\u001b[0mimage\u001b[0m\u001b[1;33m)\u001b[0m\u001b[1;33m\u001b[0m\u001b[1;33m\u001b[0m\u001b[0m\n\u001b[0m\u001b[0;32m    100\u001b[0m         \u001b[1;31m#0: grayscale\u001b[0m\u001b[1;33m\u001b[0m\u001b[1;33m\u001b[0m\u001b[1;33m\u001b[0m\u001b[0m\n\u001b[0;32m    101\u001b[0m         \u001b[1;31m#pytorch tools need RGB numpy or better PIL data and PyTorch Tensor input\u001b[0m\u001b[1;33m\u001b[0m\u001b[1;33m\u001b[0m\u001b[1;33m\u001b[0m\u001b[0m\n",
      "\u001b[1;32mC:\\ProgramData\\Anaconda3\\lib\\site-packages\\torchvision\\transforms\\transforms.py\u001b[0m in \u001b[0;36m__call__\u001b[1;34m(self, img)\u001b[0m\n\u001b[0;32m     59\u001b[0m     \u001b[1;32mdef\u001b[0m \u001b[0m__call__\u001b[0m\u001b[1;33m(\u001b[0m\u001b[0mself\u001b[0m\u001b[1;33m,\u001b[0m \u001b[0mimg\u001b[0m\u001b[1;33m)\u001b[0m\u001b[1;33m:\u001b[0m\u001b[1;33m\u001b[0m\u001b[1;33m\u001b[0m\u001b[0m\n\u001b[0;32m     60\u001b[0m         \u001b[1;32mfor\u001b[0m \u001b[0mt\u001b[0m \u001b[1;32min\u001b[0m \u001b[0mself\u001b[0m\u001b[1;33m.\u001b[0m\u001b[0mtransforms\u001b[0m\u001b[1;33m:\u001b[0m\u001b[1;33m\u001b[0m\u001b[1;33m\u001b[0m\u001b[0m\n\u001b[1;32m---> 61\u001b[1;33m             \u001b[0mimg\u001b[0m \u001b[1;33m=\u001b[0m \u001b[0mt\u001b[0m\u001b[1;33m(\u001b[0m\u001b[0mimg\u001b[0m\u001b[1;33m)\u001b[0m\u001b[1;33m\u001b[0m\u001b[1;33m\u001b[0m\u001b[0m\n\u001b[0m\u001b[0;32m     62\u001b[0m         \u001b[1;32mreturn\u001b[0m \u001b[0mimg\u001b[0m\u001b[1;33m\u001b[0m\u001b[1;33m\u001b[0m\u001b[0m\n\u001b[0;32m     63\u001b[0m \u001b[1;33m\u001b[0m\u001b[0m\n",
      "\u001b[1;32m<ipython-input-6-bfd5a4b87d8c>\u001b[0m in \u001b[0;36m__call__\u001b[1;34m(self, tensor)\u001b[0m\n\u001b[0;32m      8\u001b[0m         \u001b[1;31m# won't be invoked during the dataset instance was called\u001b[0m\u001b[1;33m\u001b[0m\u001b[1;33m\u001b[0m\u001b[1;33m\u001b[0m\u001b[0m\n\u001b[0;32m      9\u001b[0m         \u001b[1;31m# will be invoked during iteration on the dataset batch!!!!\u001b[0m\u001b[1;33m\u001b[0m\u001b[1;33m\u001b[0m\u001b[1;33m\u001b[0m\u001b[0m\n\u001b[1;32m---> 10\u001b[1;33m         \u001b[1;32mreturn\u001b[0m \u001b[0mtensor\u001b[0m\u001b[1;33m+\u001b[0m\u001b[0mtorch\u001b[0m\u001b[1;33m.\u001b[0m\u001b[0mrandn\u001b[0m\u001b[1;33m(\u001b[0m\u001b[0mtensor\u001b[0m\u001b[1;33m.\u001b[0m\u001b[0msize\u001b[0m\u001b[1;33m(\u001b[0m\u001b[1;33m)\u001b[0m\u001b[1;33m)\u001b[0m\u001b[1;33m*\u001b[0m\u001b[0mself\u001b[0m\u001b[1;33m.\u001b[0m\u001b[0mstd\u001b[0m\u001b[1;33m+\u001b[0m\u001b[0mself\u001b[0m\u001b[1;33m.\u001b[0m\u001b[0mmean\u001b[0m\u001b[1;33m\u001b[0m\u001b[1;33m\u001b[0m\u001b[0m\n\u001b[0m\u001b[0;32m     11\u001b[0m     \u001b[1;32mdef\u001b[0m \u001b[0m__repr__\u001b[0m\u001b[1;33m(\u001b[0m\u001b[0mself\u001b[0m\u001b[1;33m)\u001b[0m\u001b[1;33m:\u001b[0m\u001b[1;33m\u001b[0m\u001b[1;33m\u001b[0m\u001b[0m\n\u001b[0;32m     12\u001b[0m         \u001b[1;32mreturn\u001b[0m \u001b[0mself\u001b[0m\u001b[1;33m.\u001b[0m\u001b[0m__class__\u001b[0m\u001b[1;33m.\u001b[0m\u001b[0m__name__\u001b[0m \u001b[1;33m+\u001b[0m \u001b[1;34m' adding gaussian noise'\u001b[0m\u001b[1;33m\u001b[0m\u001b[1;33m\u001b[0m\u001b[0m\n",
      "\u001b[1;31mKeyboardInterrupt\u001b[0m: "
     ]
    }
   ],
   "source": [
    "start_time = time.time()\n",
    "for epoch in range(1,num_epochs+1):\n",
    "    \n",
    "    loss_train = 0\n",
    "    loss_valid = 0\n",
    "    running_loss = 0\n",
    "    \n",
    "    network.train()\n",
    "    for step in range(1,len(train_loader)+1):\n",
    "    \n",
    "        images, landmarks = next(iter(train_loader))\n",
    "        \n",
    "        images = images.cuda()\n",
    "        landmarks = landmarks.view(landmarks.size(0),-1).cuda() \n",
    "        \n",
    "        predictions = network(images)\n",
    "        \n",
    "        # clear all the gradients before calculating them\n",
    "        optimizer.zero_grad()\n",
    "        \n",
    "        # find the loss for the current step\n",
    "        loss_train_step = criterion(predictions, landmarks)\n",
    "        \n",
    "        # calculate the gradients\n",
    "        loss_train_step.backward()\n",
    "        \n",
    "        # update the parameters\n",
    "        optimizer.step()\n",
    "        \n",
    "        loss_train += loss_train_step.item()\n",
    "        running_loss = loss_train/step\n",
    "        \n",
    "        print_overwrite(step, len(train_loader), running_loss, 'train')\n",
    "        \n",
    "    network.eval() \n",
    "    with torch.no_grad():\n",
    "        \n",
    "        for step in range(1,len(valid_loader)+1):\n",
    "            \n",
    "            images, landmarks = next(iter(valid_loader))\n",
    "        \n",
    "            images = images.cuda()\n",
    "            landmarks = landmarks.view(landmarks.size(0),-1).cuda()\n",
    "        \n",
    "            predictions = network(images)\n",
    "\n",
    "            # find the loss for the current step\n",
    "            loss_valid_step = criterion(predictions, landmarks)\n",
    "\n",
    "            loss_valid += loss_valid_step.item()\n",
    "            running_loss = loss_valid/step\n",
    "\n",
    "            print_overwrite(step, len(valid_loader), running_loss, 'valid')\n",
    "    \n",
    "    loss_train /= len(train_loader)\n",
    "    loss_valid /= len(valid_loader)\n",
    "    \n",
    "    print('\\n--------------------------------------------------')\n",
    "    print('Epoch: {}  Train Loss: {:.4f}  Valid Loss: {:.4f}'.format(epoch, loss_train, loss_valid))\n",
    "    print('--------------------------------------------------')\n",
    "    \n",
    "    if loss_valid < loss_min:\n",
    "        loss_min = loss_valid\n",
    "        torch.save(network.state_dict(), 'lip_landmarks0.pth') \n",
    "        print(\"\\nMinimum Validation Loss of {:.4f} at epoch {}/{}\".format(loss_min, epoch, num_epochs))\n",
    "        print('Model Saved\\n')\n",
    "     \n",
    "print('Training Complete')\n",
    "print(\"Total Elapsed Time : {} s\".format(time.time()-start_time))"
   ]
  },
  {
   "cell_type": "code",
   "execution_count": null,
   "id": "5500a23e",
   "metadata": {},
   "outputs": [],
   "source": [
    "start_time = time.time()\n",
    "\n",
    "with torch.no_grad():\n",
    "\n",
    "    best_network = Network()\n",
    "    best_network.cuda()\n",
    "    best_network.load_state_dict(torch.load('face_landmarksLower.pth')) \n",
    "    best_network.eval()\n",
    "    \n",
    "    images, landmarks = next(iter(valid_loader))\n",
    "    \n",
    "    images = images.cuda()\n",
    "    landmarks = (landmarks + 0.5) * 224\n",
    "\n",
    "    predictions = (best_network(images).cpu() + 0.5) * 224\n",
    "    predictions = predictions.view(-1,lowerFaceCounts,2)\n",
    "    #predictions = predictions.view(-1,68,2)\n",
    "    plt.figure(figsize=(10,40))\n",
    "    \n",
    "    for img_num in range(8):\n",
    "        plt.subplot(8,1,img_num+1)\n",
    "        plt.imshow(images[img_num].cpu().numpy().transpose(1,2,0).squeeze(), cmap='gray')\n",
    "        plt.scatter(predictions[img_num,:,0], predictions[img_num,:,1], c = 'r', s = 5)\n",
    "        plt.scatter(landmarks[img_num,:,0], landmarks[img_num,:,1], c = 'g', s = 5)\n",
    "\n",
    "print('Total number of test images: {}'.format(len(valid_dataset)))\n",
    "\n",
    "end_time = time.time()\n",
    "print(\"Elapsed Time : {}\".format(end_time - start_time)) "
   ]
  },
  {
   "cell_type": "markdown",
   "id": "d7d0f007",
   "metadata": {},
   "source": [
    "### 2.3 my self defined vannila network"
   ]
  },
  {
   "cell_type": "code",
   "execution_count": 43,
   "id": "4be90004",
   "metadata": {},
   "outputs": [],
   "source": [
    "nc = 8\n",
    "class BinaryClass(nn.Module):\n",
    "    def __init__(self,ngpu):\n",
    "        super(BinaryClass, self).__init__() # referring to the inherit class as nn.Module explicitly\n",
    "        self.ngpu = ngpu\n",
    "        self.main=nn.Sequential(\n",
    "        #torch.nn.Conv2d(in_channels, out_channels, kernel_size, stride=1, padding=0, dilation=1, \n",
    "        #groups=1, bias=True, padding_mode='zeros', device=None, dtype=None)    \n",
    "        #input is  1, 240, 320\n",
    "        nn.Conv2d(1 , nc, 4, 2, 1, bias=False),\n",
    "        nn.BatchNorm2d(nc), \n",
    "        nn.LeakyReLU(0.2, inplace=True),\n",
    "        # 120 x 160\n",
    "        nn.Conv2d(nc , nc*2, 4, 2, 1, bias=False),\n",
    "        nn.BatchNorm2d(nc*2), \n",
    "        nn.LeakyReLU(0.2, inplace=True),\n",
    "        # 60 x 80\n",
    "        nn.Conv2d(nc*2 , nc*2, 4, 2, 1, bias=False),\n",
    "        nn.BatchNorm2d(nc*2), \n",
    "        nn.LeakyReLU(0.2, inplace=True),\n",
    "        # 30 x 40\n",
    "        nn.Conv2d(nc*2 , nc, 4, 2, 1, bias=False),\n",
    "        nn.BatchNorm2d(nc), \n",
    "        nn.LeakyReLU(0.2, inplace=True),\n",
    "        # 15 x 20\n",
    "        nn.Flatten(),\n",
    "        nn.Linear(300*nc,2)\n",
    "        )\n",
    "    def forward(self,x):\n",
    "        return self.main(x)\n",
    "        "
   ]
  },
  {
   "cell_type": "code",
   "execution_count": 44,
   "id": "3f3a8290",
   "metadata": {},
   "outputs": [],
   "source": [
    "# custom weights initialization called on netG and netD\n",
    "def weights_init(m):\n",
    "    classname = m.__class__.__name__\n",
    "    if classname.find('Conv') != -1:\n",
    "        nn.init.normal_(m.weight.data, 0.0, 0.02)\n",
    "    elif classname.find('BatchNorm') != -1:\n",
    "        nn.init.normal_(m.weight.data, 1.0, 0.02)\n",
    "        nn.init.constant_(m.bias.data, 0)"
   ]
  },
  {
   "cell_type": "code",
   "execution_count": 45,
   "id": "ff4b4151",
   "metadata": {
    "scrolled": false
   },
   "outputs": [
    {
     "name": "stdout",
     "output_type": "stream",
     "text": [
      "BinaryClass(\n",
      "  (main): Sequential(\n",
      "    (0): Conv2d(1, 8, kernel_size=(4, 4), stride=(2, 2), padding=(1, 1), bias=False)\n",
      "    (1): BatchNorm2d(8, eps=1e-05, momentum=0.1, affine=True, track_running_stats=True)\n",
      "    (2): LeakyReLU(negative_slope=0.2, inplace=True)\n",
      "    (3): Conv2d(8, 16, kernel_size=(4, 4), stride=(2, 2), padding=(1, 1), bias=False)\n",
      "    (4): BatchNorm2d(16, eps=1e-05, momentum=0.1, affine=True, track_running_stats=True)\n",
      "    (5): LeakyReLU(negative_slope=0.2, inplace=True)\n",
      "    (6): Conv2d(16, 16, kernel_size=(4, 4), stride=(2, 2), padding=(1, 1), bias=False)\n",
      "    (7): BatchNorm2d(16, eps=1e-05, momentum=0.1, affine=True, track_running_stats=True)\n",
      "    (8): LeakyReLU(negative_slope=0.2, inplace=True)\n",
      "    (9): Conv2d(16, 8, kernel_size=(4, 4), stride=(2, 2), padding=(1, 1), bias=False)\n",
      "    (10): BatchNorm2d(8, eps=1e-05, momentum=0.1, affine=True, track_running_stats=True)\n",
      "    (11): LeakyReLU(negative_slope=0.2, inplace=True)\n",
      "    (12): Flatten(start_dim=1, end_dim=-1)\n",
      "    (13): Linear(in_features=2400, out_features=2, bias=True)\n",
      "  )\n",
      ")\n"
     ]
    }
   ],
   "source": [
    "# Initialize BCELoss function\n",
    "criterion = nn.BCELoss()\n",
    "\n",
    "# Learning rate for optimizers\n",
    "lr = 0.0002\n",
    "\n",
    "# Beta1 hyperparam for Adam optimizers\n",
    "beta1 = 0.5\n",
    "\n",
    "# Establish convention for real and fake labels during training\n",
    "real_label = 1.\n",
    "fake_label = 0.\n",
    "\n",
    "netD = BinaryClass(ngpu).to(device)\n",
    "#network.to(cuda) == network.cuda()\n",
    "\n",
    "# Apply the weights_init function to randomly initialize all weights\n",
    "#  to mean=0, stdev=0.2.\n",
    "netD.apply(weights_init)\n",
    "\n",
    "# Print the model\n",
    "print(netD)\n",
    "# Setup Adam optimizers for both G and D\n",
    "optimizerD = optim.Adam(netD.parameters(), lr=lr, betas=(beta1, 0.999),weight_decay=0.0) #\n"
   ]
  },
  {
   "cell_type": "code",
   "execution_count": 22,
   "id": "dbb10786",
   "metadata": {},
   "outputs": [],
   "source": [
    "test0=torch.ones(2,1,240,320).to(device) "
   ]
  },
  {
   "cell_type": "code",
   "execution_count": 47,
   "id": "72b4aa20",
   "metadata": {},
   "outputs": [],
   "source": [
    "result = netD(test0)"
   ]
  },
  {
   "cell_type": "code",
   "execution_count": 48,
   "id": "173ddb1d",
   "metadata": {},
   "outputs": [
    {
     "data": {
      "text/plain": [
       "torch.Size([2, 2])"
      ]
     },
     "execution_count": 48,
     "metadata": {},
     "output_type": "execute_result"
    }
   ],
   "source": [
    "result.shape"
   ]
  },
  {
   "cell_type": "code",
   "execution_count": 50,
   "id": "92cb1519",
   "metadata": {},
   "outputs": [
    {
     "data": {
      "text/plain": [
       "tensor([0.6815, 0.0422], grad_fn=<SelectBackward0>)"
      ]
     },
     "execution_count": 50,
     "metadata": {},
     "output_type": "execute_result"
    }
   ],
   "source": [
    "result.cpu()[0]"
   ]
  },
  {
   "cell_type": "code",
   "execution_count": null,
   "id": "d1a669a6",
   "metadata": {},
   "outputs": [],
   "source": []
  },
  {
   "cell_type": "markdown",
   "id": "d3430988",
   "metadata": {},
   "source": [
    "training"
   ]
  },
  {
   "cell_type": "code",
   "execution_count": 29,
   "id": "ea1bfc49",
   "metadata": {},
   "outputs": [],
   "source": [
    "loss_min = np.inf\n",
    "num_epochs = 10"
   ]
  },
  {
   "cell_type": "code",
   "execution_count": null,
   "id": "f187eff1",
   "metadata": {
    "scrolled": true
   },
   "outputs": [],
   "source": [
    "start_time = time.time()\n",
    "for epoch in range(1,num_epochs+1):\n",
    "\n",
    "    loss_train = 0\n",
    "    loss_valid = 0\n",
    "    running_loss = 0\n",
    "    netD.train()\n",
    "    for step in range(1,len(train_loader)+1):\n",
    "\n",
    "        images, labels = next(iter(train_loader))\n",
    "\n",
    "        images = images.cuda()\n",
    "        labels = labels.view(labels.size(0),-1).cuda() \n",
    "\n",
    "        predictions = netD(images)\n",
    "\n",
    "        # clear all the gradients before calculating them\n",
    "        optimizerD.zero_grad()\n",
    "\n",
    "        # find the loss for the current step\n",
    "        loss_train_step = criterion(predictions, labels)\n",
    "\n",
    "        # calculate the gradients\n",
    "        loss_train_step.backward()\n",
    "\n",
    "        # update the parameters\n",
    "        optimizer.step()\n",
    "\n",
    "        loss_train += loss_train_step.item()\n",
    "        running_loss = loss_train/step\n",
    "\n",
    "        #print_overwrite(step, len(train_loader), running_loss, 'train')\n",
    "        \n",
    "    netD.eval() \n",
    "    with torch.no_grad():\n",
    "        \n",
    "        for step in range(1,len(valid_loader)+1):\n",
    "            \n",
    "            images, labels = next(iter(valid_loader))\n",
    "        \n",
    "            images = images.cuda()\n",
    "            labels = labels.view(labels.size(0),-1).cuda()\n",
    "        \n",
    "            predictions = netD(images)\n",
    "\n",
    "            # find the loss for the current step\n",
    "            loss_valid_step = criterion(predictions, labels)\n",
    "\n",
    "            loss_valid += loss_valid_step.item()\n",
    "            running_loss = loss_valid/step\n",
    "\n",
    "            #print_overwrite(step, len(valid_loader), running_loss, 'valid')\n",
    "    \n",
    "    loss_train /= len(train_loader)\n",
    "    loss_valid /= len(valid_loader)\n",
    "    \n",
    "    print('\\n--------------------------------------------------')\n",
    "    print('Epoch: {}  Train Loss: {:.4f}  Valid Loss: {:.4f}'.format(epoch, loss_train, loss_valid))\n",
    "    print('--------------------------------------------------')\n",
    "    \n",
    "    if loss_valid < loss_min:\n",
    "        loss_min = loss_valid\n",
    "        torch.save(netD.state_dict(), 'face_labelsLower.pth') \n",
    "        print(\"\\nMinimum Validation Loss of {:.4f} at epoch {}/{}\".format(loss_min, epoch, num_epochs))\n",
    "        print('Model Saved\\n')\n",
    "     \n",
    "print('Training Complete')\n",
    "print(\"Total Elapsed Time : {} s\".format(time.time()-start_time))\n",
    "    "
   ]
  },
  {
   "cell_type": "markdown",
   "id": "069063f7",
   "metadata": {},
   "source": [
    "### 2.2 resnet18 for category classification"
   ]
  },
  {
   "cell_type": "code",
   "execution_count": 12,
   "id": "00078890",
   "metadata": {},
   "outputs": [],
   "source": [
    "\n",
    "model_ft = models.resnet18()\n",
    "num_ftrs = model_ft.fc.in_features #  the number of inputs for your linear layer\n",
    "# Here the size of each output sample is set to 2.\n",
    "# Alternatively, it can be generalized to nn.Linear(num_ftrs, len(class_names)).\n",
    "model_ft.conv1=nn.Conv2d(1, 64, kernel_size=7, stride=2, padding=3, bias=False)\n",
    "model_ft.fc = nn.Linear(num_ftrs, 5)\n",
    "\n",
    "model_ft = model_ft.to(device)\n",
    "\n",
    "criterion2 = nn.CrossEntropyLoss()\n",
    "\n",
    "# Observe that all parameters are being optimized\n",
    "optimizer_ft = optim.SGD(model_ft.parameters(), lr=0.001, momentum=0.9)\n",
    "\n",
    "# Decay LR by a factor of 0.1 every 7 epochs\n",
    "exp_lr_scheduler = lr_scheduler.StepLR(optimizer_ft, step_size=7, gamma=0.1)"
   ]
  },
  {
   "cell_type": "code",
   "execution_count": 13,
   "id": "2c80aba8",
   "metadata": {},
   "outputs": [],
   "source": [
    "def train_model(model, criterion, optimizer, scheduler, num_epochs=20):\n",
    "    since = time.time()\n",
    "\n",
    "    #best_model_wts = copy.deepcopy(model.state_dict())\n",
    "    best_acc = 0.0\n",
    "\n",
    "    for epoch in range(num_epochs):\n",
    "        print(f'Epoch {epoch}/{num_epochs - 1}')\n",
    "        print('-' * 10)\n",
    "\n",
    "        # Each epoch has a training and validation phase\n",
    "        for phase in ['train', 'val']:\n",
    "            if phase == 'train':\n",
    "                model.train()  # Set model to training mode\n",
    "            else:\n",
    "                model.eval()   # Set model to evaluate mode\n",
    "\n",
    "            running_loss = 0.0\n",
    "            running_corrects = 0\n",
    "\n",
    "            # Iterate over data.\n",
    "            for inputs, labels in dataloaders[phase]:\n",
    "                inputs = inputs.to(device)\n",
    "                labels = labels.to(device)\n",
    "\n",
    "                # zero the parameter gradients\n",
    "                optimizer.zero_grad()\n",
    "\n",
    "                # forward\n",
    "                # track history if only in train\n",
    "                with torch.set_grad_enabled(phase == 'train'):\n",
    "                    outputs = model(inputs)\n",
    "                    _, preds = torch.max(outputs, 1)\n",
    "                    loss = criterion(outputs, labels)\n",
    "\n",
    "                    # backward + optimize only if in training phase\n",
    "                    if phase == 'train':\n",
    "                        loss.backward()\n",
    "                        optimizer.step()\n",
    "\n",
    "                # statistics\n",
    "                running_loss += loss.item() * inputs.size(0)\n",
    "                running_corrects += torch.sum(preds == labels.data)\n",
    "            if phase == 'train':\n",
    "                scheduler.step()\n",
    "\n",
    "            epoch_loss = running_loss / dataset_sizes[phase]\n",
    "            epoch_acc = running_corrects.double() / dataset_sizes[phase]\n",
    "\n",
    "            print(f'{phase} Loss: {epoch_loss:.4f} Acc: {epoch_acc:.4f}')\n",
    "\n",
    "            # deep copy the model\n",
    "            if phase == 'val' and epoch_acc > best_acc:\n",
    "                best_acc = epoch_acc\n",
    "                #best_model_wts = copy.deepcopy(model.state_dict())\n",
    "\n",
    "        print()\n",
    "\n",
    "    time_elapsed = time.time() - since\n",
    "    print(f'Training complete in {time_elapsed // 60:.0f}m {time_elapsed % 60:.0f}s')\n",
    "    print(f'Best val Acc: {best_acc:4f}')\n",
    "\n",
    "    # load best model weights\n",
    "    #model.load_state_dict(best_model_wts)\n",
    "    torch.save(model.state_dict(), 'resnet18PenCat0725.pth') \n",
    "    return model"
   ]
  },
  {
   "cell_type": "code",
   "execution_count": 14,
   "id": "96a2163c",
   "metadata": {
    "scrolled": true
   },
   "outputs": [
    {
     "name": "stdout",
     "output_type": "stream",
     "text": [
      "Epoch 0/19\n",
      "----------\n",
      "train Loss: 0.6912 Acc: 0.7066\n",
      "val Loss: 0.7997 Acc: 0.7011\n",
      "\n",
      "Epoch 1/19\n",
      "----------\n",
      "train Loss: 0.2670 Acc: 0.8986\n",
      "val Loss: 0.2177 Acc: 0.9184\n",
      "\n",
      "Epoch 2/19\n",
      "----------\n",
      "train Loss: 0.1607 Acc: 0.9402\n",
      "val Loss: 0.1216 Acc: 0.9542\n",
      "\n",
      "Epoch 3/19\n",
      "----------\n",
      "train Loss: 0.1068 Acc: 0.9619\n",
      "val Loss: 0.1814 Acc: 0.9424\n",
      "\n",
      "Epoch 4/19\n",
      "----------\n",
      "train Loss: 0.0786 Acc: 0.9721\n",
      "val Loss: 0.1609 Acc: 0.9405\n",
      "\n",
      "Epoch 5/19\n",
      "----------\n",
      "train Loss: 0.0606 Acc: 0.9782\n",
      "val Loss: 0.0604 Acc: 0.9792\n",
      "\n",
      "Epoch 6/19\n",
      "----------\n",
      "train Loss: 0.0410 Acc: 0.9861\n",
      "val Loss: 0.0641 Acc: 0.9792\n",
      "\n",
      "Epoch 7/19\n",
      "----------\n",
      "train Loss: 0.0129 Acc: 0.9967\n",
      "val Loss: 0.0217 Acc: 0.9918\n",
      "\n",
      "Epoch 8/19\n",
      "----------\n",
      "train Loss: 0.0089 Acc: 0.9981\n",
      "val Loss: 0.0185 Acc: 0.9934\n",
      "\n",
      "Epoch 9/19\n",
      "----------\n",
      "train Loss: 0.0076 Acc: 0.9985\n",
      "val Loss: 0.0189 Acc: 0.9929\n",
      "\n",
      "Epoch 10/19\n",
      "----------\n",
      "train Loss: 0.0074 Acc: 0.9985\n",
      "val Loss: 0.0178 Acc: 0.9929\n",
      "\n",
      "Epoch 11/19\n",
      "----------\n",
      "train Loss: 0.0058 Acc: 0.9991\n",
      "val Loss: 0.0158 Acc: 0.9939\n",
      "\n",
      "Epoch 12/19\n",
      "----------\n",
      "train Loss: 0.0059 Acc: 0.9990\n",
      "val Loss: 0.0170 Acc: 0.9939\n",
      "\n",
      "Epoch 13/19\n",
      "----------\n",
      "train Loss: 0.0050 Acc: 0.9993\n",
      "val Loss: 0.0161 Acc: 0.9937\n",
      "\n",
      "Epoch 14/19\n",
      "----------\n",
      "train Loss: 0.0046 Acc: 0.9992\n",
      "val Loss: 0.0172 Acc: 0.9929\n",
      "\n",
      "Epoch 15/19\n",
      "----------\n",
      "train Loss: 0.0045 Acc: 0.9994\n",
      "val Loss: 0.0172 Acc: 0.9932\n",
      "\n",
      "Epoch 16/19\n",
      "----------\n",
      "train Loss: 0.0044 Acc: 0.9993\n",
      "val Loss: 0.0154 Acc: 0.9945\n",
      "\n",
      "Epoch 17/19\n",
      "----------\n",
      "train Loss: 0.0050 Acc: 0.9989\n",
      "val Loss: 0.0182 Acc: 0.9918\n",
      "\n",
      "Epoch 18/19\n",
      "----------\n",
      "train Loss: 0.0041 Acc: 0.9994\n",
      "val Loss: 0.0170 Acc: 0.9939\n",
      "\n",
      "Epoch 19/19\n",
      "----------\n",
      "train Loss: 0.0044 Acc: 0.9994\n",
      "val Loss: 0.0159 Acc: 0.9939\n",
      "\n",
      "Training complete in 213m 9s\n",
      "Best val Acc: 0.994475\n"
     ]
    }
   ],
   "source": [
    "model_ft = train_model(model_ft, criterion2, optimizer_ft, exp_lr_scheduler,\n",
    "                       num_epochs=20)"
   ]
  },
  {
   "cell_type": "code",
   "execution_count": 15,
   "id": "9cdbbee4",
   "metadata": {
    "scrolled": true
   },
   "outputs": [],
   "source": [
    "class_names = dataset.classes"
   ]
  },
  {
   "cell_type": "code",
   "execution_count": 16,
   "id": "fb744133",
   "metadata": {},
   "outputs": [
    {
     "data": {
      "text/plain": [
       "list"
      ]
     },
     "execution_count": 16,
     "metadata": {},
     "output_type": "execute_result"
    }
   ],
   "source": [
    "type(dataset.classes)"
   ]
  },
  {
   "cell_type": "code",
   "execution_count": 17,
   "id": "ecb7e742",
   "metadata": {},
   "outputs": [
    {
     "data": {
      "text/plain": [
       "['Eighty', 'Fifth', 'Full', 'Half', 'Zero']"
      ]
     },
     "execution_count": 17,
     "metadata": {},
     "output_type": "execute_result"
    }
   ],
   "source": [
    "class_names"
   ]
  },
  {
   "cell_type": "code",
   "execution_count": 19,
   "id": "456929d0",
   "metadata": {},
   "outputs": [],
   "source": []
  },
  {
   "cell_type": "code",
   "execution_count": 20,
   "id": "ce80b5f2",
   "metadata": {},
   "outputs": [],
   "source": [
    "def visualize_model(model, num_images=6):\n",
    "    was_training = model.training\n",
    "    model.eval()\n",
    "    images_so_far = 0\n",
    "    fig = plt.figure()\n",
    "\n",
    "    with torch.no_grad():\n",
    "        for i, (inputs, labels) in enumerate(dataloaders['val']):\n",
    "            inputs = inputs.to(device)\n",
    "            labels = labels.to(device)\n",
    "\n",
    "            outputs = model(inputs)\n",
    "            _, preds = torch.max(outputs, 1)\n",
    "            #input (Tensor) – the input tensor. \n",
    "            #dim (int) – the dimension to reduce\n",
    "\n",
    "            for j in range(inputs.size()[0]):\n",
    "                images_so_far += 1\n",
    "                ax = plt.subplot(num_images//2, 2, images_so_far)\n",
    "                ax.axis('off')\n",
    "                ax.set_title(f'predicted:{preds[j]} , {class_names[preds[j]]} \\\n",
    "                             groundtruth: {class_names[labels[j]]}')\n",
    "                imshow(inputs.cpu().data[j])\n",
    "\n",
    "                if images_so_far == num_images:\n",
    "                    model.train(mode=was_training)\n",
    "                    return\n",
    "        model.train(mode=was_training)"
   ]
  },
  {
   "cell_type": "code",
   "execution_count": 21,
   "id": "06c2821f",
   "metadata": {
    "scrolled": false
   },
   "outputs": [
    {
     "data": {
      "image/png": "[encoded data removed]",
      "text/plain": [
       "<Figure size 432x288 with 1 Axes>"
      ]
     },
     "metadata": {
      "needs_background": "light"
     },
     "output_type": "display_data"
    },
    {
     "data": {
      "image/png": "[encoded data removed]",
      "text/plain": [
       "<Figure size 432x288 with 1 Axes>"
      ]
     },
     "metadata": {
      "needs_background": "light"
     },
     "output_type": "display_data"
    },
    {
     "data": {
      "image/png": "[encoded data removed]",
      "text/plain": [
       "<Figure size 432x288 with 1 Axes>"
      ]
     },
     "metadata": {
      "needs_background": "light"
     },
     "output_type": "display_data"
    },
    {
     "data": {
      "image/png": "[encoded data removed]",
      "text/plain": [
       "<Figure size 432x288 with 1 Axes>"
      ]
     },
     "metadata": {
      "needs_background": "light"
     },
     "output_type": "display_data"
    },
    {
     "data": {
      "image/png": "[encoded data removed]",
      "text/plain": [
       "<Figure size 432x288 with 1 Axes>"
      ]
     },
     "metadata": {
      "needs_background": "light"
     },
     "output_type": "display_data"
    },
    {
     "data": {
      "image/png": "[encoded data removed]",
      "text/plain": [
       "<Figure size 432x288 with 1 Axes>"
      ]
     },
     "metadata": {
      "needs_background": "light"
     },
     "output_type": "display_data"
    }
   ],
   "source": [
    "visualize_model(model_ft)"
   ]
  },
  {
   "cell_type": "code",
   "execution_count": 17,
   "id": "379cd0fc",
   "metadata": {},
   "outputs": [
    {
     "data": {
      "text/plain": [
       "'Eighty'"
      ]
     },
     "execution_count": 17,
     "metadata": {},
     "output_type": "execute_result"
    }
   ],
   "source": [
    "class_names[0]"
   ]
  },
  {
   "cell_type": "code",
   "execution_count": 14,
   "id": "f6bb3dea",
   "metadata": {
    "scrolled": true
   },
   "outputs": [
    {
     "data": {
      "text/plain": [
       "<All keys matched successfully>"
      ]
     },
     "execution_count": 14,
     "metadata": {},
     "output_type": "execute_result"
    }
   ],
   "source": [
    "model_ft.load_state_dict(torch.load('resnet18.pth')) "
   ]
  },
  {
   "cell_type": "code",
   "execution_count": 15,
   "id": "0ced8fe7",
   "metadata": {},
   "outputs": [
    {
     "data": {
      "text/plain": [
       "<All keys matched successfully>"
      ]
     },
     "execution_count": 15,
     "metadata": {},
     "output_type": "execute_result"
    }
   ],
   "source": [
    "model_ft.load_state_dict(torch.load('resnet18Categ.pth')) "
   ]
  },
  {
   "cell_type": "code",
   "execution_count": 15,
   "id": "466ad42c",
   "metadata": {},
   "outputs": [
    {
     "data": {
      "text/plain": [
       "ResNet(\n",
       "  (conv1): Conv2d(1, 64, kernel_size=(7, 7), stride=(2, 2), padding=(3, 3), bias=False)\n",
       "  (bn1): BatchNorm2d(64, eps=1e-05, momentum=0.1, affine=True, track_running_stats=True)\n",
       "  (relu): ReLU(inplace=True)\n",
       "  (maxpool): MaxPool2d(kernel_size=3, stride=2, padding=1, dilation=1, ceil_mode=False)\n",
       "  (layer1): Sequential(\n",
       "    (0): BasicBlock(\n",
       "      (conv1): Conv2d(64, 64, kernel_size=(3, 3), stride=(1, 1), padding=(1, 1), bias=False)\n",
       "      (bn1): BatchNorm2d(64, eps=1e-05, momentum=0.1, affine=True, track_running_stats=True)\n",
       "      (relu): ReLU(inplace=True)\n",
       "      (conv2): Conv2d(64, 64, kernel_size=(3, 3), stride=(1, 1), padding=(1, 1), bias=False)\n",
       "      (bn2): BatchNorm2d(64, eps=1e-05, momentum=0.1, affine=True, track_running_stats=True)\n",
       "    )\n",
       "    (1): BasicBlock(\n",
       "      (conv1): Conv2d(64, 64, kernel_size=(3, 3), stride=(1, 1), padding=(1, 1), bias=False)\n",
       "      (bn1): BatchNorm2d(64, eps=1e-05, momentum=0.1, affine=True, track_running_stats=True)\n",
       "      (relu): ReLU(inplace=True)\n",
       "      (conv2): Conv2d(64, 64, kernel_size=(3, 3), stride=(1, 1), padding=(1, 1), bias=False)\n",
       "      (bn2): BatchNorm2d(64, eps=1e-05, momentum=0.1, affine=True, track_running_stats=True)\n",
       "    )\n",
       "  )\n",
       "  (layer2): Sequential(\n",
       "    (0): BasicBlock(\n",
       "      (conv1): Conv2d(64, 128, kernel_size=(3, 3), stride=(2, 2), padding=(1, 1), bias=False)\n",
       "      (bn1): BatchNorm2d(128, eps=1e-05, momentum=0.1, affine=True, track_running_stats=True)\n",
       "      (relu): ReLU(inplace=True)\n",
       "      (conv2): Conv2d(128, 128, kernel_size=(3, 3), stride=(1, 1), padding=(1, 1), bias=False)\n",
       "      (bn2): BatchNorm2d(128, eps=1e-05, momentum=0.1, affine=True, track_running_stats=True)\n",
       "      (downsample): Sequential(\n",
       "        (0): Conv2d(64, 128, kernel_size=(1, 1), stride=(2, 2), bias=False)\n",
       "        (1): BatchNorm2d(128, eps=1e-05, momentum=0.1, affine=True, track_running_stats=True)\n",
       "      )\n",
       "    )\n",
       "    (1): BasicBlock(\n",
       "      (conv1): Conv2d(128, 128, kernel_size=(3, 3), stride=(1, 1), padding=(1, 1), bias=False)\n",
       "      (bn1): BatchNorm2d(128, eps=1e-05, momentum=0.1, affine=True, track_running_stats=True)\n",
       "      (relu): ReLU(inplace=True)\n",
       "      (conv2): Conv2d(128, 128, kernel_size=(3, 3), stride=(1, 1), padding=(1, 1), bias=False)\n",
       "      (bn2): BatchNorm2d(128, eps=1e-05, momentum=0.1, affine=True, track_running_stats=True)\n",
       "    )\n",
       "  )\n",
       "  (layer3): Sequential(\n",
       "    (0): BasicBlock(\n",
       "      (conv1): Conv2d(128, 256, kernel_size=(3, 3), stride=(2, 2), padding=(1, 1), bias=False)\n",
       "      (bn1): BatchNorm2d(256, eps=1e-05, momentum=0.1, affine=True, track_running_stats=True)\n",
       "      (relu): ReLU(inplace=True)\n",
       "      (conv2): Conv2d(256, 256, kernel_size=(3, 3), stride=(1, 1), padding=(1, 1), bias=False)\n",
       "      (bn2): BatchNorm2d(256, eps=1e-05, momentum=0.1, affine=True, track_running_stats=True)\n",
       "      (downsample): Sequential(\n",
       "        (0): Conv2d(128, 256, kernel_size=(1, 1), stride=(2, 2), bias=False)\n",
       "        (1): BatchNorm2d(256, eps=1e-05, momentum=0.1, affine=True, track_running_stats=True)\n",
       "      )\n",
       "    )\n",
       "    (1): BasicBlock(\n",
       "      (conv1): Conv2d(256, 256, kernel_size=(3, 3), stride=(1, 1), padding=(1, 1), bias=False)\n",
       "      (bn1): BatchNorm2d(256, eps=1e-05, momentum=0.1, affine=True, track_running_stats=True)\n",
       "      (relu): ReLU(inplace=True)\n",
       "      (conv2): Conv2d(256, 256, kernel_size=(3, 3), stride=(1, 1), padding=(1, 1), bias=False)\n",
       "      (bn2): BatchNorm2d(256, eps=1e-05, momentum=0.1, affine=True, track_running_stats=True)\n",
       "    )\n",
       "  )\n",
       "  (layer4): Sequential(\n",
       "    (0): BasicBlock(\n",
       "      (conv1): Conv2d(256, 512, kernel_size=(3, 3), stride=(2, 2), padding=(1, 1), bias=False)\n",
       "      (bn1): BatchNorm2d(512, eps=1e-05, momentum=0.1, affine=True, track_running_stats=True)\n",
       "      (relu): ReLU(inplace=True)\n",
       "      (conv2): Conv2d(512, 512, kernel_size=(3, 3), stride=(1, 1), padding=(1, 1), bias=False)\n",
       "      (bn2): BatchNorm2d(512, eps=1e-05, momentum=0.1, affine=True, track_running_stats=True)\n",
       "      (downsample): Sequential(\n",
       "        (0): Conv2d(256, 512, kernel_size=(1, 1), stride=(2, 2), bias=False)\n",
       "        (1): BatchNorm2d(512, eps=1e-05, momentum=0.1, affine=True, track_running_stats=True)\n",
       "      )\n",
       "    )\n",
       "    (1): BasicBlock(\n",
       "      (conv1): Conv2d(512, 512, kernel_size=(3, 3), stride=(1, 1), padding=(1, 1), bias=False)\n",
       "      (bn1): BatchNorm2d(512, eps=1e-05, momentum=0.1, affine=True, track_running_stats=True)\n",
       "      (relu): ReLU(inplace=True)\n",
       "      (conv2): Conv2d(512, 512, kernel_size=(3, 3), stride=(1, 1), padding=(1, 1), bias=False)\n",
       "      (bn2): BatchNorm2d(512, eps=1e-05, momentum=0.1, affine=True, track_running_stats=True)\n",
       "    )\n",
       "  )\n",
       "  (avgpool): AdaptiveAvgPool2d(output_size=(1, 1))\n",
       "  (fc): Linear(in_features=512, out_features=2, bias=True)\n",
       ")"
      ]
     },
     "execution_count": 15,
     "metadata": {},
     "output_type": "execute_result"
    }
   ],
   "source": [
    " model_ft.eval()"
   ]
  },
  {
   "cell_type": "code",
   "execution_count": 19,
   "id": "f569dda1",
   "metadata": {},
   "outputs": [],
   "source": [
    "yeah = cv2.imread(\"..\\..\\yeah.png\")"
   ]
  },
  {
   "cell_type": "code",
   "execution_count": 122,
   "id": "77d3fde4",
   "metadata": {
    "scrolled": false
   },
   "outputs": [
    {
     "data": {
      "text/plain": [
       "'close'"
      ]
     },
     "execution_count": 122,
     "metadata": {},
     "output_type": "execute_result"
    }
   ],
   "source": [
    "class_names[preds[0]]"
   ]
  },
  {
   "cell_type": "code",
   "execution_count": 66,
   "id": "255314ac",
   "metadata": {},
   "outputs": [
    {
     "data": {
      "text/plain": [
       "'open'"
      ]
     },
     "execution_count": 66,
     "metadata": {},
     "output_type": "execute_result"
    }
   ],
   "source": [
    "class_names[1]"
   ]
  },
  {
   "cell_type": "code",
   "execution_count": null,
   "id": "30368c08",
   "metadata": {
    "scrolled": true
   },
   "outputs": [],
   "source": [
    "yeah = cv2.imread(\"..\\..\\yeah.png\")\n",
    "plt.figure()\n",
    "#plt.subplot()\n",
    "#plt.title=class_names[preds[0]]\n",
    "plt.imshow(yeah)\n",
    "#plt.axis(\"off\")\n",
    "#print(class_names[preds[0]])"
   ]
  },
  {
   "cell_type": "code",
   "execution_count": 220,
   "id": "1b89406e",
   "metadata": {},
   "outputs": [],
   "source": [
    "def OneStopPred(those, model = model_ft,flag = 2,mean =-0.0732,stdev = 0.0437): #(FilePath,model = model_ft):\n",
    "    #those = cv2.imread(FilePath)\n",
    "\n",
    "        #print(\"resized to 320,240 \")\n",
    "    #print(those.shape)\n",
    "    #intensity above is in 0,256 integer range manner\n",
    "    #intensity below is in 0,1 float range manner\n",
    "    if flag==1:\n",
    "        if len(those.shape)==3:\n",
    "            those = (cv2.cvtColor(those, cv2.COLOR_BGR2GRAY))\n",
    "        if those.shape[0:2]!= (320,240):\n",
    "            those = cv2.resize(those,(320,240))\n",
    "        #these = cv2.normalize(those,None,0.0,1.0,cv2.NORM_MINMAX).astype('float32')  # [0,1]\n",
    "        #print(smean)\n",
    "        #print(sstd)\n",
    "        these = (those - smean)/sstd # projected into training distribution\n",
    "        #these = (these - mean)/stdev\n",
    "        these -= np.amin(these) #shift to 0 \n",
    "        #these = cv2.normalize(these,None,0.0,1.0,cv2.NORM_MINMAX).astype('float32') # [0,1]\n",
    "        #these/=np.amax(these)\n",
    "        #these = TF.to_tensor(these).unsqueeze(0)\n",
    "        these = TF.normalize(TF.to_tensor(these.astype('float32')), [0.5], [0.5]).unsqueeze(0) # for the model\n",
    "        #those = (those - mean)/stdev\n",
    "        #print(\"normalize this into training dataset lightness space\")\n",
    "    elif(flag==2):\n",
    "        print(those.dtype)\n",
    "        if those.dtype != np.dtype('uint8'):\n",
    "           those = those.astype('uint8')  \n",
    "        these = TF.normalize(TF.resize(TF.rgb_to_grayscale(TF.to_tensor(those),\n",
    "                                                           1), (240,320)),[0.5], [0.5]).unsqueeze(0)\n",
    "\n",
    "            #transforms class cannot be nested into dataset class\n",
    "            #to use these indepedently, invoke transforms.functional as TF. most case PIL or Tensor \n",
    "            #ToTensor the input image is scaled to [0.0, 1.0] if the np.ndarray dtype = np.uint8\n",
    "    elif(flag==3):\n",
    "        #input is np from cv2\n",
    "        PIL_arr0 = Image.fromarray(np.uint8(those)).convert('RGB')\n",
    "        these = TF.normalize(TF.to_tensor(TF.resize(TF.rgb_to_grayscale(PIL_arr0\n",
    "                                                         ,1),(240,320))),[0.5], [0.5]).unsqueeze(0)\n",
    "        \n",
    "\n",
    "    print(these.shape)\n",
    "    with torch.no_grad(): #To perform inference without Gradient Calculation.\n",
    "        outputs = model_ft(these.cuda())\n",
    "        _, preds = torch.max(outputs, 1)\n",
    "    result = class_names[preds[0]]\n",
    "    print(preds[0].shape, preds[0])\n",
    "    print(preds[0].cpu().numpy().shape, preds[0].cpu().numpy())\n",
    "    plt.title = result # does not work???\n",
    "    #imshow(these[0].cpu().data)\n",
    "    plt.imshow(those,cmap=\"gray\")\n",
    "    print(result) # okay... embarras to use it for now\n",
    "    "
   ]
  },
  {
   "cell_type": "markdown",
   "id": "c869bf93",
   "metadata": {},
   "source": [
    "## test on \n",
    "### 7.1 raw data from leap or png \n",
    "### 7.2 processed directly with torch.transform.functional along with PIL\n",
    "### 7.3 or cv2 preprocess first and then torch.transform.functional \n",
    "### 7.4 and different invoking order of  torch.transform.functional "
   ]
  },
  {
   "cell_type": "code",
   "execution_count": 159,
   "id": "dbb73674",
   "metadata": {},
   "outputs": [],
   "source": [
    "arr0 = (np.ones((320,240))*255).astype(np.uint8)"
   ]
  },
  {
   "cell_type": "markdown",
   "id": "c7e1fa51",
   "metadata": {},
   "source": [
    "situation: a png loaded by cv2 and then to PIL and then processed by TF"
   ]
  },
  {
   "cell_type": "code",
   "execution_count": 212,
   "id": "f9489dfb",
   "metadata": {},
   "outputs": [],
   "source": [
    "PIL_arr0 = Image.fromarray(np.uint8(testR)).convert('RGB')\n"
   ]
  },
  {
   "cell_type": "code",
   "execution_count": 213,
   "id": "41f27349",
   "metadata": {},
   "outputs": [],
   "source": [
    "datasetOrder = TF.normalize(TF.to_tensor(TF.resize(TF.rgb_to_grayscale(PIL_arr0\n",
    "                                                         ,1),(240,320))),[0.5], [0.5]).unsqueeze(0)"
   ]
  },
  {
   "cell_type": "code",
   "execution_count": 214,
   "id": "f0e8cc0f",
   "metadata": {
    "scrolled": true
   },
   "outputs": [
    {
     "data": {
      "text/plain": [
       "torch.Size([1, 1, 240, 320])"
      ]
     },
     "execution_count": 214,
     "metadata": {},
     "output_type": "execute_result"
    }
   ],
   "source": [
    "datasetOrder.shape"
   ]
  },
  {
   "cell_type": "markdown",
   "id": "66d2cb6c",
   "metadata": {},
   "source": [
    "situation: a png loaded by cv2 and then processed by TF"
   ]
  },
  {
   "cell_type": "code",
   "execution_count": 217,
   "id": "ca1378af",
   "metadata": {},
   "outputs": [],
   "source": [
    "another = TF.normalize(TF.resize(TF.rgb_to_grayscale(TF.to_tensor(testR),\n",
    "                                                           1), (240,320)),[0.5], [0.5]).unsqueeze(0)\n",
    "    "
   ]
  },
  {
   "cell_type": "code",
   "execution_count": 218,
   "id": "8d602032",
   "metadata": {},
   "outputs": [
    {
     "data": {
      "text/plain": [
       "torch.Size([1, 1, 240, 320])"
      ]
     },
     "execution_count": 218,
     "metadata": {},
     "output_type": "execute_result"
    }
   ],
   "source": [
    "another.shape"
   ]
  },
  {
   "cell_type": "code",
   "execution_count": 219,
   "id": "e1af5ae4",
   "metadata": {},
   "outputs": [
    {
     "data": {
      "text/plain": [
       "False"
      ]
     },
     "execution_count": 219,
     "metadata": {},
     "output_type": "execute_result"
    }
   ],
   "source": [
    "torch.equal(datasetOrder,another)"
   ]
  },
  {
   "cell_type": "code",
   "execution_count": 21,
   "id": "01bdd1b2",
   "metadata": {},
   "outputs": [],
   "source": [
    "test = cv2.imread(\"../../r3close.png\")"
   ]
  },
  {
   "cell_type": "code",
   "execution_count": 22,
   "id": "a251b82c",
   "metadata": {},
   "outputs": [],
   "source": [
    "shock = cv2.imread(\"..\\..\\l2shock.png\")"
   ]
  },
  {
   "cell_type": "markdown",
   "id": "bcd7d466",
   "metadata": {},
   "source": [
    "why is it so weird, python window can read two style path........again"
   ]
  },
  {
   "cell_type": "code",
   "execution_count": 82,
   "id": "ee699621",
   "metadata": {},
   "outputs": [],
   "source": [
    "teston = test[60:290,20:320]"
   ]
  },
  {
   "cell_type": "code",
   "execution_count": 201,
   "id": "2a7727e7",
   "metadata": {},
   "outputs": [],
   "source": [
    "testR =  test[54:295,365:-10]"
   ]
  },
  {
   "cell_type": "code",
   "execution_count": 144,
   "id": "5b57efeb",
   "metadata": {},
   "outputs": [
    {
     "data": {
      "text/plain": [
       "array([240, 240, 240], dtype=uint8)"
      ]
     },
     "execution_count": 144,
     "metadata": {},
     "output_type": "execute_result"
    }
   ],
   "source": [
    "testR[0,0]"
   ]
  },
  {
   "cell_type": "code",
   "execution_count": null,
   "id": "f5eb5d13",
   "metadata": {},
   "outputs": [],
   "source": [
    "OneStopPred(testR,flag=3)"
   ]
  },
  {
   "cell_type": "code",
   "execution_count": null,
   "id": "fdbd507d",
   "metadata": {
    "scrolled": true
   },
   "outputs": [],
   "source": [
    "OneStopPred(teston,flag=2) "
   ]
  },
  {
   "cell_type": "code",
   "execution_count": 203,
   "id": "3311ceef",
   "metadata": {},
   "outputs": [],
   "source": [
    "yeas = shock[60:290,8:325]"
   ]
  },
  {
   "cell_type": "code",
   "execution_count": null,
   "id": "64c1aae8",
   "metadata": {
    "scrolled": false
   },
   "outputs": [],
   "source": [
    "OneStopPred(yeas,flag=3)"
   ]
  },
  {
   "cell_type": "code",
   "execution_count": null,
   "id": "0fdd4c5a",
   "metadata": {
    "scrolled": true
   },
   "outputs": [],
   "source": [
    "yr = shock[54:297,365:-10]\n",
    "OneStopPred(yr,flag=3)"
   ]
  },
  {
   "cell_type": "code",
   "execution_count": 318,
   "id": "0613498a",
   "metadata": {},
   "outputs": [],
   "source": [
    "#his= cv2.calcHist(cv2.cvtColor(trainsample2, cv2.COLOR_BGR2GRAY),[0],None,[256],(0, 256),accumulate=False)"
   ]
  },
  {
   "cell_type": "code",
   "execution_count": null,
   "id": "6baffaa5",
   "metadata": {},
   "outputs": [],
   "source": [
    "#plt.hist(cv2.cvtColor(trainsample2, cv2.COLOR_BGR2GRAY).ravel(),256,[0,256]) # not working!"
   ]
  },
  {
   "cell_type": "code",
   "execution_count": 314,
   "id": "07ccd19c",
   "metadata": {},
   "outputs": [
    {
     "data": {
      "text/plain": [
       "[<matplotlib.lines.Line2D at 0x1cced87ab08>]"
      ]
     },
     "execution_count": 314,
     "metadata": {},
     "output_type": "execute_result"
    },
    {
     "data": {
      "image/png": "[encoded data removed]",
      "text/plain": [
       "<Figure size 432x288 with 1 Axes>"
      ]
     },
     "metadata": {
      "needs_background": "light"
     },
     "output_type": "display_data"
    }
   ],
   "source": [
    "#plt.plot(his)"
   ]
  },
  {
   "cell_type": "code",
   "execution_count": 320,
   "id": "8adfd4dd",
   "metadata": {
    "scrolled": true
   },
   "outputs": [
    {
     "data": {
      "image/png": "[encoded data removed]",
      "text/plain": [
       "<Figure size 432x288 with 1 Axes>"
      ]
     },
     "metadata": {
      "needs_background": "light"
     },
     "output_type": "display_data"
    }
   ],
   "source": [
    "plt.plot(his,color = 'r',label = 'train')\n",
    "plt.plot(histest,color = 'g',label = 'test')\n",
    "plt.xlabel(\"intensity\")\n",
    "plt.ylabel(\"frequency\")\n",
    "#plt.title(\"distribution\")\n",
    "plt.legend()\n",
    "plt.show()"
   ]
  },
  {
   "cell_type": "code",
   "execution_count": 224,
   "id": "02ec9a24",
   "metadata": {},
   "outputs": [],
   "source": [
    "#testoff = cv2.normalize(teston.astype('float32'),0.0,256,cv2.NORM_MINMAX)"
   ]
  },
  {
   "cell_type": "code",
   "execution_count": 478,
   "id": "bfc13f43",
   "metadata": {},
   "outputs": [
    {
     "data": {
      "text/plain": [
       "(220, 300, 3)"
      ]
     },
     "execution_count": 478,
     "metadata": {},
     "output_type": "execute_result"
    }
   ],
   "source": [
    "yeas.shape"
   ]
  },
  {
   "cell_type": "code",
   "execution_count": null,
   "id": "3a655d59",
   "metadata": {
    "scrolled": false
   },
   "outputs": [],
   "source": [
    "ohno = cv2.cvtColor(yeas, cv2.COLOR_BGR2GRAY)\n",
    "ohno = (ohno - smean)/sstd #recenter to training order\n",
    "ohno -= np.amin(ohno) #shift to 0 \n",
    "ohno = cv2.normalize(ohno,None,0,1,cv2.NORM_MINMAX)\n",
    "plt.imshow(ohno,cmap=\"gray\")\n",
    "#OneStopPred(ohno,flag=2)"
   ]
  },
  {
   "cell_type": "code",
   "execution_count": 24,
   "id": "85eb7ea1",
   "metadata": {},
   "outputs": [],
   "source": [
    "class_names = ['open','close']"
   ]
  },
  {
   "cell_type": "markdown",
   "id": "40535cca",
   "metadata": {},
   "source": [
    "below is to calculate a pytorch dataloader mean and std"
   ]
  },
  {
   "cell_type": "code",
   "execution_count": 159,
   "id": "f97ed723",
   "metadata": {},
   "outputs": [
    {
     "name": "stdout",
     "output_type": "stream",
     "text": [
      "tensor(-0.0732)\n",
      "tensor(0.0437)\n"
     ]
    }
   ],
   "source": [
    "meann = 0\n",
    "meansq = 0\n",
    "std = 0\n",
    "for data, _ in train_loader:\n",
    "    #mean = data.mean()\n",
    "    #meansq = (data**2).mean()\n",
    "    mean += data.mean()\n",
    "    std += data.std()\n",
    "mean /= len(train_loader.dataset)\n",
    "std  /= len(train_loader.dataset)\n",
    "#std = torch.sqrt(meansq - mean**2)\n",
    "print(mean)\n",
    "print(std)"
   ]
  },
  {
   "cell_type": "code",
   "execution_count": null,
   "id": "e10c1043",
   "metadata": {},
   "outputs": [],
   "source": []
  },
  {
   "cell_type": "code",
   "execution_count": null,
   "id": "3f20206e",
   "metadata": {},
   "outputs": [],
   "source": []
  },
  {
   "cell_type": "code",
   "execution_count": null,
   "id": "1a729dea",
   "metadata": {},
   "outputs": [],
   "source": [
    "datalen=DataMidAugmntedTensor.size(0)\n",
    "shuffle_list = list(range(0,datalen))\n",
    "batch_num=int(datalen/batch_size)\n",
    "random.shuffle(shuffle_list)\n",
    "real_img=DataMidAugmntedTensor[shuffle_list[i*batch_size:(i+1)*batch_size]].to(device)"
   ]
  },
  {
   "cell_type": "code",
   "execution_count": 522,
   "id": "583a7308",
   "metadata": {},
   "outputs": [
    {
     "data": {
      "text/plain": [
       "torch.Size([10, 1, 240, 320])"
      ]
     },
     "execution_count": 522,
     "metadata": {},
     "output_type": "execute_result"
    }
   ],
   "source": [
    "OneBatch = next(iter(train_loader))\n",
    "OneBatch[0].shape"
   ]
  },
  {
   "cell_type": "code",
   "execution_count": null,
   "id": "d57f9fd1",
   "metadata": {},
   "outputs": [],
   "source": []
  }
 ],
 "metadata": {
  "kernelspec": {
   "display_name": "Python 3",
   "language": "python",
   "name": "python3"
  },
  "language_info": {
   "codemirror_mode": {
    "name": "ipython",
    "version": 3
   },
   "file_extension": ".py",
   "mimetype": "text/x-python",
   "name": "python",
   "nbconvert_exporter": "python",
   "pygments_lexer": "ipython3",
   "version": "3.7.6"
  }
 },
 "nbformat": 4,
 "nbformat_minor": 5
}
