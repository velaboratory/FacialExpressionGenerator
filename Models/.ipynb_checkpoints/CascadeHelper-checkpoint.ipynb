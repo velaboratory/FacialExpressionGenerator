{
 "cells": [
  {
   "cell_type": "code",
   "execution_count": 2,
   "id": "edbb636b",
   "metadata": {},
   "outputs": [],
   "source": [
    "import numpy as np\n",
    "import matplotlib.pyplot as plt\n",
    "import matplotlib.image as mpimg\n",
    "import json\n",
    "import pandas as pd\n",
    "import csv\n",
    "import cv2\n",
    "import glob\n",
    "import re\n",
    "import torchvision.transforms.functional as TF\n",
    "from PIL import Image"
   ]
  },
  {
   "cell_type": "code",
   "execution_count": 3,
   "id": "3a6ab2a0",
   "metadata": {},
   "outputs": [],
   "source": [
    "root=\"../Output/landmark\"\n",
    "imglist =sorted(glob.glob(root+'/*.png'),\n",
    "                      key=lambda x:float(re.findall(\"(\\d+)\",x)[0])) "
   ]
  },
  {
   "cell_type": "code",
   "execution_count": 4,
   "id": "9e710e67",
   "metadata": {},
   "outputs": [],
   "source": [
    "indices = np.random.choice(2000, 102)"
   ]
  },
  {
   "cell_type": "code",
   "execution_count": 5,
   "id": "8de0164d",
   "metadata": {},
   "outputs": [],
   "source": [
    "test = indices[-2:]"
   ]
  },
  {
   "cell_type": "code",
   "execution_count": 6,
   "id": "d5e47cff",
   "metadata": {},
   "outputs": [
    {
     "data": {
      "text/plain": [
       "array([1827,  322])"
      ]
     },
     "execution_count": 6,
     "metadata": {},
     "output_type": "execute_result"
    }
   ],
   "source": [
    "test"
   ]
  },
  {
   "cell_type": "code",
   "execution_count": 7,
   "id": "d72c52b1",
   "metadata": {},
   "outputs": [],
   "source": [
    "trainlist = indices[:100]"
   ]
  },
  {
   "cell_type": "code",
   "execution_count": 8,
   "id": "9c477d74",
   "metadata": {},
   "outputs": [
    {
     "data": {
      "text/plain": [
       "100"
      ]
     },
     "execution_count": 8,
     "metadata": {},
     "output_type": "execute_result"
    }
   ],
   "source": [
    "len(trainlist)"
   ]
  },
  {
   "cell_type": "code",
   "execution_count": 9,
   "id": "a25e9e53",
   "metadata": {
    "scrolled": true
   },
   "outputs": [
    {
     "data": {
      "text/plain": [
       "array([1178, 1526, 1432,  960, 1074,  214,  493,  928,  211, 1854,   69,\n",
       "        475,  998, 1986, 1939,  991, 1086, 1589,  485,  311, 1986, 1650,\n",
       "       1855,  129,  499,  490, 1068, 1999,  103, 1360, 1024, 1924, 1519,\n",
       "       1805, 1638, 1488, 1672, 1829, 1778,  949,   18,  381,   16,  735,\n",
       "       1620, 1743,  611, 1108, 1502,  781, 1182, 1013, 1759, 1043, 1738,\n",
       "       1234,  330, 1533,  862, 1610,  327,  199, 1166, 1355, 1736,  728,\n",
       "       1050, 1010, 1221,  290,  283, 1911, 1158,  876, 1749, 1673, 1247,\n",
       "         24, 1054,  109,  869,  442,  492,  605, 1462,  631,   41,  184,\n",
       "       1616, 1529,  406,    5, 1757, 1315,  756,  991, 1469, 1828, 1122,\n",
       "       1578])"
      ]
     },
     "execution_count": 9,
     "metadata": {},
     "output_type": "execute_result"
    }
   ],
   "source": [
    "trainlist"
   ]
  },
  {
   "cell_type": "code",
   "execution_count": 10,
   "id": "62659f17",
   "metadata": {},
   "outputs": [
    {
     "data": {
      "text/plain": [
       "list"
      ]
     },
     "execution_count": 10,
     "metadata": {},
     "output_type": "execute_result"
    }
   ],
   "source": [
    "type(imglist)"
   ]
  },
  {
   "cell_type": "code",
   "execution_count": 11,
   "id": "9e3603e1",
   "metadata": {},
   "outputs": [],
   "source": [
    "imgetrain = []\n",
    "for indexes in trainlist:\n",
    "    imgetrain.append(imglist[indexes])"
   ]
  },
  {
   "cell_type": "code",
   "execution_count": 12,
   "id": "1befa9d8",
   "metadata": {},
   "outputs": [
    {
     "data": {
      "text/plain": [
       "['../Output/landmark\\\\_v0__leapLeft13MaleAdultblendShape1.SR_Tongue_LongStep2_50.png',\n",
       " '../Output/landmark\\\\_v0__leapLeft15MaleAdultblendShape1.AU_24_LipPressor_50.png',\n",
       " '../Output/landmark\\\\_v0__leapLeft15MaleAdultblendShape1.AA_VI_05_KK_100.png',\n",
       " '../Output/landmark\\\\_v0__leapLeft13MaleAdultblendShape1.AA_VI_05_KK_100.png',\n",
       " '../Output/landmark\\\\_v0__leapLeft13MaleAdultblendShape1.HB_01_L_Jaw_50.png',\n",
       " '../Output/landmark\\\\_v0__leapLeft0FemaleAdultblendShape1.SR_09_L_Mouth_Upper_50.png',\n",
       " '../Output/landmark\\\\_v0__leapLeft11MaleAdultblendShape1.AA_VI_06_CH_25.png',\n",
       " '../Output/landmark\\\\_v0__leapLeft12MaleAdultblendShape1.SR_11_Mouth_Upper_Overturn_100.png',\n",
       " '../Output/landmark\\\\_v0__leapLeft0FemaleAdultblendShape1.SR_08_Mouth_Ape_Shape_75.png',\n",
       " '../Output/landmark\\\\_v0__leapLeft16MaleAdultblendShape1.SR_05_R_Mouth_Sad_50.png',\n",
       " '../Output/landmark\\\\_v0__leapLeft0FemaleAdultblendShape1.AU_12_LipCornerPuller_25.png',\n",
       " '../Output/landmark\\\\_v0__leapLeft11MaleAdultblendShape1.AA_VI_01_PP_75.png',\n",
       " '../Output/landmark\\\\_v0__leapLeft13MaleAdultblendShape1.AA_VI_14_U_50.png',\n",
       " '../Output/landmark\\\\_v0__leapLeft17MaleAdultblendShape1.AU_20_LipStretcher_50.png',\n",
       " '../Output/landmark\\\\_v0__leapLeft17MaleAdultblendShape1.AA_VI_13_O_75.png',\n",
       " '../Output/landmark\\\\_v0__leapLeft13MaleAdultblendShape1.AA_VI_12_I_75.png',\n",
       " '../Output/landmark\\\\_v0__leapLeft13MaleAdultblendShape1.HB_03_JawOut_50.png',\n",
       " '../Output/landmark\\\\_v0__leapLeft15MaleAdultblendShape1.HB_14_NosetrilInflated_25.png',\n",
       " '../Output/landmark\\\\_v0__leapLeft11MaleAdultblendShape1.AA_VI_04_DD_25.png',\n",
       " '../Output/landmark\\\\_v0__leapLeft10MaleAdultblendShape1.AU_13_CheekPuffer_75.png',\n",
       " '../Output/landmark\\\\_v0__leapLeft17MaleAdultblendShape1.AU_20_LipStretcher_50.png',\n",
       " '../Output/landmark\\\\_v0__leapLeft15MaleAdultblendShape1.SR_Tongue_LongStep2_50.png',\n",
       " '../Output/landmark\\\\_v0__leapLeft16MaleAdultblendShape1.SR_05_R_Mouth_Sad_75.png',\n",
       " '../Output/landmark\\\\_v0__leapLeft0FemaleAdultblendShape1.HB_01_L_Jaw_25.png',\n",
       " '../Output/landmark\\\\_v0__leapLeft11MaleAdultblendShape1.AA_VI_07_SS_75.png',\n",
       " '../Output/landmark\\\\_v0__leapLeft11MaleAdultblendShape1.AA_VI_05_KK_50.png',\n",
       " '../Output/landmark\\\\_v0__leapLeft13MaleAdultblendShape1.AU_28_LipSuck_100.png',\n",
       " '../Output/landmark\\\\_v0__leapLeft17MaleAdultblendShape1.AU_24_LipPressor_75.png',\n",
       " '../Output/landmark\\\\_v0__leapLeft0FemaleAdultblendShape1.AU_22_LipFunneler_75.png',\n",
       " '../Output/landmark\\\\_v0__leapLeft14MaleAdultblendShape1.SR_02_L_Mouth_Upper_100.png',\n",
       " '../Output/landmark\\\\_v0__leapLeft13MaleAdultblendShape1.AU_15_LipCornerDepressor_100.png',\n",
       " '../Output/landmark\\\\_v0__leapLeft17MaleAdultblendShape1.AA_VI_10_aa_100.png',\n",
       " '../Output/landmark\\\\_v0__leapLeft15MaleAdultblendShape1.AU_22_LipFunneler_75.png',\n",
       " '../Output/landmark\\\\_v0__leapLeft16MaleAdultblendShape1.HB_05_MouthDeflated_25.png',\n",
       " '../Output/landmark\\\\_v0__leapLeft15MaleAdultblendShape1.SR_11_Mouth_Upper_Overturn_50.png',\n",
       " '../Output/landmark\\\\_v0__leapLeft15MaleAdultblendShape1.AU_13_CheekPuffer_100.png',\n",
       " '../Output/landmark\\\\_v0__leapLeft16MaleAdultblendShape1.AA_VI_06_CH_100.png',\n",
       " '../Output/landmark\\\\_v0__leapLeft16MaleAdultblendShape1.SR_01_Mouth_Ape_Shape_25.png',\n",
       " '../Output/landmark\\\\_v0__leapLeft16MaleAdultblendShape1.AU_28_LipSuck_50.png',\n",
       " '../Output/landmark\\\\_v0__leapLeft13MaleAdultblendShape1.AA_VI_02_FF_25.png',\n",
       " '../Output/landmark\\\\_v0__leapLeft0FemaleAdultblendShape1.AA_VI_05_KK_50.png',\n",
       " '../Output/landmark\\\\_v0__leapLeft10MaleAdultblendShape1.HB_04_L_MouthBite_25.png',\n",
       " '../Output/landmark\\\\_v0__leapLeft0FemaleAdultblendShape1.AA_VI_05_KK_100.png',\n",
       " '../Output/landmark\\\\_v0__leapLeft12MaleAdultblendShape1.AA_VI_07_SS_75.png',\n",
       " '../Output/landmark\\\\_v0__leapLeft15MaleAdultblendShape1.SR_07_Cheek_Suck_100.png',\n",
       " '../Output/landmark\\\\_v0__leapLeft16MaleAdultblendShape1.AU_17_ChinRaiser_75.png',\n",
       " '../Output/landmark\\\\_v0__leapLeft11MaleAdultblendShape1.HB_02_JawIn_75.png',\n",
       " '../Output/landmark\\\\_v0__leapLeft13MaleAdultblendShape1.HB_08_TongueOut_100.png',\n",
       " '../Output/landmark\\\\_v0__leapLeft15MaleAdultblendShape1.AU_16_LowerLipDepressor_50.png',\n",
       " '../Output/landmark\\\\_v0__leapLeft12MaleAdultblendShape1.AU_13_CheekPuffer_25.png',\n",
       " '../Output/landmark\\\\_v0__leapLeft14MaleAdultblendShape1.AA_VI_01_PP_50.png',\n",
       " '../Output/landmark\\\\_v0__leapLeft13MaleAdultblendShape1.AU_12_LipCornerPuller_25.png',\n",
       " '../Output/landmark\\\\_v0__leapLeft16MaleAdultblendShape1.AU_23_LipTightener_75.png',\n",
       " '../Output/landmark\\\\_v0__leapLeft13MaleAdultblendShape1.AU_20_LipStretcher_75.png',\n",
       " '../Output/landmark\\\\_v0__leapLeft16MaleAdultblendShape1.AU_16_LowerLipDepressor_50.png',\n",
       " '../Output/landmark\\\\_v0__leapLeft14MaleAdultblendShape1.AA_VI_14_U_50.png',\n",
       " '../Output/landmark\\\\_v0__leapLeft10MaleAdultblendShape1.AU_18_LipPuckerer_50.png',\n",
       " '../Output/landmark\\\\_v0__leapLeft15MaleAdultblendShape1.AU_26_JawDrop_25.png',\n",
       " '../Output/landmark\\\\_v0__leapLeft12MaleAdultblendShape1.HB_05_MouthDeflated_50.png',\n",
       " '../Output/landmark\\\\_v0__leapLeft15MaleAdultblendShape1.SR_04_Mouth_Upper_Overturn_50.png',\n",
       " '../Output/landmark\\\\_v0__leapLeft10MaleAdultblendShape1.AU_17_ChinRaiser_75.png',\n",
       " '../Output/landmark\\\\_v0__leapLeft0FemaleAdultblendShape1.SR_05_L_Mouth_Sad_75.png',\n",
       " '../Output/landmark\\\\_v0__leapLeft13MaleAdultblendShape1.SR_11_Mouth_Upper_Overturn_50.png',\n",
       " '../Output/landmark\\\\_v0__leapLeft14MaleAdultblendShape1.HB_14_NosetrilInflated_75.png',\n",
       " '../Output/landmark\\\\_v0__leapLeft16MaleAdultblendShape1.AU_16_LowerLipDepressor_100.png',\n",
       " '../Output/landmark\\\\_v0__leapLeft12MaleAdultblendShape1.AA_VI_06_CH_100.png',\n",
       " '../Output/landmark\\\\_v0__leapLeft13MaleAdultblendShape1.AU_23_LipTightener_50.png',\n",
       " '../Output/landmark\\\\_v0__leapLeft13MaleAdultblendShape1.AU_10_UpperLipRaiser_50.png',\n",
       " '../Output/landmark\\\\_v0__leapLeft14MaleAdultblendShape1.AA_VI_11_E_25.png',\n",
       " '../Output/landmark\\\\_v0__leapLeft10MaleAdultblendShape1.AA_VI_14_U_50.png',\n",
       " '../Output/landmark\\\\_v0__leapLeft10MaleAdultblendShape1.AA_VI_12_I_75.png',\n",
       " '../Output/landmark\\\\_v0__leapLeft17MaleAdultblendShape1.AA_VI_06_CH_75.png',\n",
       " '../Output/landmark\\\\_v0__leapLeft13MaleAdultblendShape1.SR_09_L_Mouth_Upper_50.png',\n",
       " '../Output/landmark\\\\_v0__leapLeft12MaleAdultblendShape1.HB_13_NosetrilDeflated_100.png',\n",
       " '../Output/landmark\\\\_v0__leapLeft16MaleAdultblendShape1.AU_20_LipStretcher_25.png',\n",
       " '../Output/landmark\\\\_v0__leapLeft16MaleAdultblendShape1.AA_VI_06_CH_25.png',\n",
       " '../Output/landmark\\\\_v0__leapLeft14MaleAdultblendShape1.AU_10_UpperLipRaiser_75.png',\n",
       " '../Output/landmark\\\\_v0__leapLeft0FemaleAdultblendShape1.AA_VI_07_SS_100.png',\n",
       " '../Output/landmark\\\\_v0__leapLeft13MaleAdultblendShape1.AU_24_LipPressor_50.png',\n",
       " '../Output/landmark\\\\_v0__leapLeft0FemaleAdultblendShape1.AU_24_LipPressor_25.png',\n",
       " '../Output/landmark\\\\_v0__leapLeft12MaleAdultblendShape1.HB_07_MouthSmile_25.png',\n",
       " '../Output/landmark\\\\_v0__leapLeft10MaleAdultblendShape1.SR_07_Cheek_Suck_50.png',\n",
       " '../Output/landmark\\\\_v0__leapLeft11MaleAdultblendShape1.AA_VI_06_CH_100.png',\n",
       " '../Output/landmark\\\\_v0__leapLeft11MaleAdultblendShape1.HB_01_R_Jaw_25.png',\n",
       " '../Output/landmark\\\\_v0__leapLeft15MaleAdultblendShape1.AA_VI_12_I_50.png',\n",
       " '../Output/landmark\\\\_v0__leapLeft11MaleAdultblendShape1.HB_06_MouthInflated_75.png',\n",
       " '../Output/landmark\\\\_v0__leapLeft0FemaleAdultblendShape1.AA_VI_11_E_25.png',\n",
       " '../Output/landmark\\\\_v0__leapLeft0FemaleAdultblendShape1.SR_02_R_Mouth_Upper_100.png',\n",
       " '../Output/landmark\\\\_v0__leapLeft15MaleAdultblendShape1.SR_05_R_Mouth_Sad_100.png',\n",
       " '../Output/landmark\\\\_v0__leapLeft15MaleAdultblendShape1.AU_25_LipsPart_25.png',\n",
       " '../Output/landmark\\\\_v0__leapLeft10MaleAdultblendShape1.HB_13_NosetrilDeflated_50.png',\n",
       " '../Output/landmark\\\\_v0__leapLeft0FemaleAdultblendShape1.AA_VI_02_FF_25.png',\n",
       " '../Output/landmark\\\\_v0__leapLeft16MaleAdultblendShape1.AU_23_LipTightener_25.png',\n",
       " '../Output/landmark\\\\_v0__leapLeft14MaleAdultblendShape1.HB_01_R_Jaw_75.png',\n",
       " '../Output/landmark\\\\_v0__leapLeft12MaleAdultblendShape1.AA_VI_13_O_100.png',\n",
       " '../Output/landmark\\\\_v0__leapLeft13MaleAdultblendShape1.AA_VI_12_I_75.png',\n",
       " '../Output/landmark\\\\_v0__leapLeft15MaleAdultblendShape1.AA_VI_14_U_25.png',\n",
       " '../Output/landmark\\\\_v0__leapLeft16MaleAdultblendShape1.SR_01_Mouth_Ape_Shape_100.png',\n",
       " '../Output/landmark\\\\_v0__leapLeft13MaleAdultblendShape1.SR_01_Mouth_Ape_Shape_50.png',\n",
       " '../Output/landmark\\\\_v0__leapLeft15MaleAdultblendShape1.HB_07_MouthSmile_50.png']"
      ]
     },
     "execution_count": 12,
     "metadata": {},
     "output_type": "execute_result"
    }
   ],
   "source": [
    "imgetrain"
   ]
  },
  {
   "cell_type": "code",
   "execution_count": 13,
   "id": "f9c8ec55",
   "metadata": {},
   "outputs": [
    {
     "data": {
      "text/plain": [
       "['../Output/landmark\\\\_v0__leapLeft13MaleAdultblendShape1.SR_Tongue_LongStep2_50.png',\n",
       " '../Output/landmark\\\\_v0__leapLeft15MaleAdultblendShape1.AU_24_LipPressor_50.png',\n",
       " '../Output/landmark\\\\_v0__leapLeft15MaleAdultblendShape1.AA_VI_05_KK_100.png',\n",
       " '../Output/landmark\\\\_v0__leapLeft13MaleAdultblendShape1.AA_VI_05_KK_100.png',\n",
       " '../Output/landmark\\\\_v0__leapLeft13MaleAdultblendShape1.HB_01_L_Jaw_50.png',\n",
       " '../Output/landmark\\\\_v0__leapLeft0FemaleAdultblendShape1.SR_09_L_Mouth_Upper_50.png',\n",
       " '../Output/landmark\\\\_v0__leapLeft11MaleAdultblendShape1.AA_VI_06_CH_25.png',\n",
       " '../Output/landmark\\\\_v0__leapLeft12MaleAdultblendShape1.SR_11_Mouth_Upper_Overturn_100.png',\n",
       " '../Output/landmark\\\\_v0__leapLeft0FemaleAdultblendShape1.SR_08_Mouth_Ape_Shape_75.png',\n",
       " '../Output/landmark\\\\_v0__leapLeft16MaleAdultblendShape1.SR_05_R_Mouth_Sad_50.png',\n",
       " '../Output/landmark\\\\_v0__leapLeft0FemaleAdultblendShape1.AU_12_LipCornerPuller_25.png',\n",
       " '../Output/landmark\\\\_v0__leapLeft11MaleAdultblendShape1.AA_VI_01_PP_75.png',\n",
       " '../Output/landmark\\\\_v0__leapLeft13MaleAdultblendShape1.AA_VI_14_U_50.png',\n",
       " '../Output/landmark\\\\_v0__leapLeft17MaleAdultblendShape1.AU_20_LipStretcher_50.png',\n",
       " '../Output/landmark\\\\_v0__leapLeft17MaleAdultblendShape1.AA_VI_13_O_75.png',\n",
       " '../Output/landmark\\\\_v0__leapLeft13MaleAdultblendShape1.AA_VI_12_I_75.png',\n",
       " '../Output/landmark\\\\_v0__leapLeft13MaleAdultblendShape1.HB_03_JawOut_50.png',\n",
       " '../Output/landmark\\\\_v0__leapLeft15MaleAdultblendShape1.HB_14_NosetrilInflated_25.png',\n",
       " '../Output/landmark\\\\_v0__leapLeft11MaleAdultblendShape1.AA_VI_04_DD_25.png',\n",
       " '../Output/landmark\\\\_v0__leapLeft10MaleAdultblendShape1.AU_13_CheekPuffer_75.png',\n",
       " '../Output/landmark\\\\_v0__leapLeft17MaleAdultblendShape1.AU_20_LipStretcher_50.png',\n",
       " '../Output/landmark\\\\_v0__leapLeft15MaleAdultblendShape1.SR_Tongue_LongStep2_50.png',\n",
       " '../Output/landmark\\\\_v0__leapLeft16MaleAdultblendShape1.SR_05_R_Mouth_Sad_75.png',\n",
       " '../Output/landmark\\\\_v0__leapLeft0FemaleAdultblendShape1.HB_01_L_Jaw_25.png',\n",
       " '../Output/landmark\\\\_v0__leapLeft11MaleAdultblendShape1.AA_VI_07_SS_75.png',\n",
       " '../Output/landmark\\\\_v0__leapLeft11MaleAdultblendShape1.AA_VI_05_KK_50.png',\n",
       " '../Output/landmark\\\\_v0__leapLeft13MaleAdultblendShape1.AU_28_LipSuck_100.png',\n",
       " '../Output/landmark\\\\_v0__leapLeft17MaleAdultblendShape1.AU_24_LipPressor_75.png',\n",
       " '../Output/landmark\\\\_v0__leapLeft0FemaleAdultblendShape1.AU_22_LipFunneler_75.png',\n",
       " '../Output/landmark\\\\_v0__leapLeft14MaleAdultblendShape1.SR_02_L_Mouth_Upper_100.png',\n",
       " '../Output/landmark\\\\_v0__leapLeft13MaleAdultblendShape1.AU_15_LipCornerDepressor_100.png',\n",
       " '../Output/landmark\\\\_v0__leapLeft17MaleAdultblendShape1.AA_VI_10_aa_100.png',\n",
       " '../Output/landmark\\\\_v0__leapLeft15MaleAdultblendShape1.AU_22_LipFunneler_75.png',\n",
       " '../Output/landmark\\\\_v0__leapLeft16MaleAdultblendShape1.HB_05_MouthDeflated_25.png',\n",
       " '../Output/landmark\\\\_v0__leapLeft15MaleAdultblendShape1.SR_11_Mouth_Upper_Overturn_50.png',\n",
       " '../Output/landmark\\\\_v0__leapLeft15MaleAdultblendShape1.AU_13_CheekPuffer_100.png',\n",
       " '../Output/landmark\\\\_v0__leapLeft16MaleAdultblendShape1.AA_VI_06_CH_100.png',\n",
       " '../Output/landmark\\\\_v0__leapLeft16MaleAdultblendShape1.SR_01_Mouth_Ape_Shape_25.png',\n",
       " '../Output/landmark\\\\_v0__leapLeft16MaleAdultblendShape1.AU_28_LipSuck_50.png',\n",
       " '../Output/landmark\\\\_v0__leapLeft13MaleAdultblendShape1.AA_VI_02_FF_25.png',\n",
       " '../Output/landmark\\\\_v0__leapLeft0FemaleAdultblendShape1.AA_VI_05_KK_50.png',\n",
       " '../Output/landmark\\\\_v0__leapLeft10MaleAdultblendShape1.HB_04_L_MouthBite_25.png',\n",
       " '../Output/landmark\\\\_v0__leapLeft0FemaleAdultblendShape1.AA_VI_05_KK_100.png',\n",
       " '../Output/landmark\\\\_v0__leapLeft12MaleAdultblendShape1.AA_VI_07_SS_75.png',\n",
       " '../Output/landmark\\\\_v0__leapLeft15MaleAdultblendShape1.SR_07_Cheek_Suck_100.png',\n",
       " '../Output/landmark\\\\_v0__leapLeft16MaleAdultblendShape1.AU_17_ChinRaiser_75.png',\n",
       " '../Output/landmark\\\\_v0__leapLeft11MaleAdultblendShape1.HB_02_JawIn_75.png',\n",
       " '../Output/landmark\\\\_v0__leapLeft13MaleAdultblendShape1.HB_08_TongueOut_100.png',\n",
       " '../Output/landmark\\\\_v0__leapLeft15MaleAdultblendShape1.AU_16_LowerLipDepressor_50.png',\n",
       " '../Output/landmark\\\\_v0__leapLeft12MaleAdultblendShape1.AU_13_CheekPuffer_25.png',\n",
       " '../Output/landmark\\\\_v0__leapLeft14MaleAdultblendShape1.AA_VI_01_PP_50.png',\n",
       " '../Output/landmark\\\\_v0__leapLeft13MaleAdultblendShape1.AU_12_LipCornerPuller_25.png',\n",
       " '../Output/landmark\\\\_v0__leapLeft16MaleAdultblendShape1.AU_23_LipTightener_75.png',\n",
       " '../Output/landmark\\\\_v0__leapLeft13MaleAdultblendShape1.AU_20_LipStretcher_75.png',\n",
       " '../Output/landmark\\\\_v0__leapLeft16MaleAdultblendShape1.AU_16_LowerLipDepressor_50.png',\n",
       " '../Output/landmark\\\\_v0__leapLeft14MaleAdultblendShape1.AA_VI_14_U_50.png',\n",
       " '../Output/landmark\\\\_v0__leapLeft10MaleAdultblendShape1.AU_18_LipPuckerer_50.png',\n",
       " '../Output/landmark\\\\_v0__leapLeft15MaleAdultblendShape1.AU_26_JawDrop_25.png',\n",
       " '../Output/landmark\\\\_v0__leapLeft12MaleAdultblendShape1.HB_05_MouthDeflated_50.png',\n",
       " '../Output/landmark\\\\_v0__leapLeft15MaleAdultblendShape1.SR_04_Mouth_Upper_Overturn_50.png',\n",
       " '../Output/landmark\\\\_v0__leapLeft10MaleAdultblendShape1.AU_17_ChinRaiser_75.png',\n",
       " '../Output/landmark\\\\_v0__leapLeft0FemaleAdultblendShape1.SR_05_L_Mouth_Sad_75.png',\n",
       " '../Output/landmark\\\\_v0__leapLeft13MaleAdultblendShape1.SR_11_Mouth_Upper_Overturn_50.png',\n",
       " '../Output/landmark\\\\_v0__leapLeft14MaleAdultblendShape1.HB_14_NosetrilInflated_75.png',\n",
       " '../Output/landmark\\\\_v0__leapLeft16MaleAdultblendShape1.AU_16_LowerLipDepressor_100.png',\n",
       " '../Output/landmark\\\\_v0__leapLeft12MaleAdultblendShape1.AA_VI_06_CH_100.png',\n",
       " '../Output/landmark\\\\_v0__leapLeft13MaleAdultblendShape1.AU_23_LipTightener_50.png',\n",
       " '../Output/landmark\\\\_v0__leapLeft13MaleAdultblendShape1.AU_10_UpperLipRaiser_50.png',\n",
       " '../Output/landmark\\\\_v0__leapLeft14MaleAdultblendShape1.AA_VI_11_E_25.png',\n",
       " '../Output/landmark\\\\_v0__leapLeft10MaleAdultblendShape1.AA_VI_14_U_50.png',\n",
       " '../Output/landmark\\\\_v0__leapLeft10MaleAdultblendShape1.AA_VI_12_I_75.png',\n",
       " '../Output/landmark\\\\_v0__leapLeft17MaleAdultblendShape1.AA_VI_06_CH_75.png',\n",
       " '../Output/landmark\\\\_v0__leapLeft13MaleAdultblendShape1.SR_09_L_Mouth_Upper_50.png',\n",
       " '../Output/landmark\\\\_v0__leapLeft12MaleAdultblendShape1.HB_13_NosetrilDeflated_100.png',\n",
       " '../Output/landmark\\\\_v0__leapLeft16MaleAdultblendShape1.AU_20_LipStretcher_25.png',\n",
       " '../Output/landmark\\\\_v0__leapLeft16MaleAdultblendShape1.AA_VI_06_CH_25.png',\n",
       " '../Output/landmark\\\\_v0__leapLeft14MaleAdultblendShape1.AU_10_UpperLipRaiser_75.png',\n",
       " '../Output/landmark\\\\_v0__leapLeft0FemaleAdultblendShape1.AA_VI_07_SS_100.png',\n",
       " '../Output/landmark\\\\_v0__leapLeft13MaleAdultblendShape1.AU_24_LipPressor_50.png',\n",
       " '../Output/landmark\\\\_v0__leapLeft0FemaleAdultblendShape1.AU_24_LipPressor_25.png',\n",
       " '../Output/landmark\\\\_v0__leapLeft12MaleAdultblendShape1.HB_07_MouthSmile_25.png',\n",
       " '../Output/landmark\\\\_v0__leapLeft10MaleAdultblendShape1.SR_07_Cheek_Suck_50.png',\n",
       " '../Output/landmark\\\\_v0__leapLeft11MaleAdultblendShape1.AA_VI_06_CH_100.png',\n",
       " '../Output/landmark\\\\_v0__leapLeft11MaleAdultblendShape1.HB_01_R_Jaw_25.png',\n",
       " '../Output/landmark\\\\_v0__leapLeft15MaleAdultblendShape1.AA_VI_12_I_50.png',\n",
       " '../Output/landmark\\\\_v0__leapLeft11MaleAdultblendShape1.HB_06_MouthInflated_75.png',\n",
       " '../Output/landmark\\\\_v0__leapLeft0FemaleAdultblendShape1.AA_VI_11_E_25.png',\n",
       " '../Output/landmark\\\\_v0__leapLeft0FemaleAdultblendShape1.SR_02_R_Mouth_Upper_100.png',\n",
       " '../Output/landmark\\\\_v0__leapLeft15MaleAdultblendShape1.SR_05_R_Mouth_Sad_100.png',\n",
       " '../Output/landmark\\\\_v0__leapLeft15MaleAdultblendShape1.AU_25_LipsPart_25.png',\n",
       " '../Output/landmark\\\\_v0__leapLeft10MaleAdultblendShape1.HB_13_NosetrilDeflated_50.png',\n",
       " '../Output/landmark\\\\_v0__leapLeft0FemaleAdultblendShape1.AA_VI_02_FF_25.png',\n",
       " '../Output/landmark\\\\_v0__leapLeft16MaleAdultblendShape1.AU_23_LipTightener_25.png',\n",
       " '../Output/landmark\\\\_v0__leapLeft14MaleAdultblendShape1.HB_01_R_Jaw_75.png',\n",
       " '../Output/landmark\\\\_v0__leapLeft12MaleAdultblendShape1.AA_VI_13_O_100.png',\n",
       " '../Output/landmark\\\\_v0__leapLeft13MaleAdultblendShape1.AA_VI_12_I_75.png',\n",
       " '../Output/landmark\\\\_v0__leapLeft15MaleAdultblendShape1.AA_VI_14_U_25.png',\n",
       " '../Output/landmark\\\\_v0__leapLeft16MaleAdultblendShape1.SR_01_Mouth_Ape_Shape_100.png',\n",
       " '../Output/landmark\\\\_v0__leapLeft13MaleAdultblendShape1.SR_01_Mouth_Ape_Shape_50.png',\n",
       " '../Output/landmark\\\\_v0__leapLeft15MaleAdultblendShape1.HB_07_MouthSmile_50.png']"
      ]
     },
     "execution_count": 13,
     "metadata": {},
     "output_type": "execute_result"
    }
   ],
   "source": [
    "imgetrain"
   ]
  },
  {
   "cell_type": "code",
   "execution_count": 14,
   "id": "83a15d44",
   "metadata": {},
   "outputs": [
    {
     "ename": "NameError",
     "evalue": "name 'cascade' is not defined",
     "output_type": "error",
     "traceback": [
      "\u001b[1;31m---------------------------------------------------------------------------\u001b[0m",
      "\u001b[1;31mNameError\u001b[0m                                 Traceback (most recent call last)",
      "\u001b[1;32m<ipython-input-14-771fe9085e92>\u001b[0m in \u001b[0;36m<module>\u001b[1;34m\u001b[0m\n\u001b[1;32m----> 1\u001b[1;33m \u001b[0mcascade\u001b[0m\u001b[1;33m\u001b[0m\u001b[1;33m\u001b[0m\u001b[0m\n\u001b[0m",
      "\u001b[1;31mNameError\u001b[0m: name 'cascade' is not defined"
     ]
    }
   ],
   "source": [
    "cascade"
   ]
  },
  {
   "cell_type": "code",
   "execution_count": 33,
   "id": "76a19613",
   "metadata": {},
   "outputs": [],
   "source": [
    "from matplotlib.patches import Rectangle"
   ]
  },
  {
   "cell_type": "code",
   "execution_count": 17,
   "id": "74185209",
   "metadata": {},
   "outputs": [
    {
     "data": {
      "image/png": "[encoded data removed]",
      "text/plain": [
       "<Figure size 720x720 with 1 Axes>"
      ]
     },
     "metadata": {
      "needs_background": "light"
     },
     "output_type": "display_data"
    }
   ],
   "source": [
    "filename = imgetrain[0]\n",
    "if 'Left' in filename:\n",
    "    left = True \n",
    "img = Image.open(filename)\n",
    "blur = TF.gaussian_blur(img,(3,5),(0.1,6))\n",
    "#CLASStorchvision.transforms.GaussianBlur(kernel_size, sigma=(0.1, 2.0))\n",
    "csvfile = filename.replace(\"png\",\"csv\")\n",
    "df = pd.read_csv(csvfile, \n",
    "                 sep=',', header=None)\n",
    "yeah = df.to_numpy()\n",
    "plt.figure(figsize=(10,10))\n",
    "plt.imshow(blur)\n",
    "plt.scatter(yeah[:,0],yeah[:,1], s = 20, c = 'r')\n",
    "plt.show()\n",
    "#plt.gca().add_patch(Rectangle((50,100),40,30,linewidth=1,edgecolor='r',facecolor='none'))\n"
   ]
  },
  {
   "cell_type": "code",
   "execution_count": 25,
   "id": "3ad0cb18",
   "metadata": {},
   "outputs": [
    {
     "data": {
      "text/plain": [
       "(7, 7, 7, 255)"
      ]
     },
     "execution_count": 25,
     "metadata": {},
     "output_type": "execute_result"
    }
   ],
   "source": [
    "img.load()[306,408] #PIL pixel access"
   ]
  },
  {
   "cell_type": "code",
   "execution_count": null,
   "id": "f40c356f",
   "metadata": {},
   "outputs": [],
   "source": [
    "for filename in imgetrain:\n",
    "    img = Image.open(filename)\n",
    "    blur = TF.gaussian_blur(img,(5,9),(9,11))\n",
    "    csvfile = filename.replace(\"png\",\"csv\")\n",
    "    df = pd.read_csv(csvfile, \n",
    "                     sep=',', header=None)\n",
    "    yeah = df.to_numpy()\n",
    "    "
   ]
  },
  {
   "cell_type": "code",
   "execution_count": null,
   "id": "2b31a09c",
   "metadata": {},
   "outputs": [],
   "source": [
    "def lowerFaceCut(photoName, CutWeight = 240,CutHeight = 300):\n",
    "    # give a default cut of lower face interest of area\n",
    "    img = Image.open(filename)\n",
    "        #blur = TF.gaussian_blur(img,(3,5),(0.1,6))\n",
    "    csvfile = filename.replace(\"png\",\"csv\")\n",
    "    df = pd.read_csv(csvfile, \n",
    "                 sep=',', header=None)\n",
    "    lipmarks = df.to_numpy()  \n",
    "    lefttop = np.amin(lipmarks,axis = 0).astype(\"int\")  \n",
    "    #default will be tuned later\n",
    "    leftoffset = (150,150)\n",
    "    rightoffset = (70,150)\n",
    "    if 'Left' in photoName:\n",
    "        \n",
    "        return (lefttop[0] - leftoffset[0],lefttop[1] -leftoffset[1],\n",
    "                lefttop[0] - leftoffset[0] + CutWeight, lefttop[1] - leftoffset[1]+CutHeight)\n",
    "         \n",
    "    else:\n",
    "        return (lefttop[0]-rightoffset[0],lefttop[1]-rightoffset[1],\n",
    "                lefttop[0]-rightoffset[0]+CutWeight,lefttop[1]-rightoffset[1]+CutHeight)"
   ]
  },
  {
   "cell_type": "code",
   "execution_count": null,
   "id": "f6e799d3",
   "metadata": {},
   "outputs": [],
   "source": [
    "plt.figure(figsize=(10,10))\n",
    "plt.imshow(blur.crop(cut))#(left, upper, right, lower) \n",
    "#The top left coordinates correspond to (x, y) = (left, upper)\n",
    "plt.show()"
   ]
  },
  {
   "cell_type": "code",
   "execution_count": null,
   "id": "c7ec4f7d",
   "metadata": {},
   "outputs": [],
   "source": [
    "def RGBA2GRAY(outputPath,outPathInner, imgList,strcut = 19):\n",
    "    for filename in imgList:\n",
    "        imgFile = cv2.imread(filename,cv2.IMREAD_GRAYSCALE)\n",
    "        cv2.imwrite(outputPath+'/'+outPathInner+'/'+filename[strcut:],imgFile)"
   ]
  },
  {
   "cell_type": "code",
   "execution_count": null,
   "id": "2ee2da03",
   "metadata": {},
   "outputs": [],
   "source": [
    "115/260: RGBA2GRAY(negOut,'img',neglist, 47)"
   ]
  },
  {
   "cell_type": "code",
   "execution_count": null,
   "id": "e3742f7d",
   "metadata": {},
   "outputs": [],
   "source": [
    "img = Image.open(filename)\n",
    "blur = TF.gaussian_blur(img,(3,5),(0.1,6))\n",
    "plt.figure(figsize=(10,10))\n",
    "plt.imshow(blur.crop(cut))#(left, upper, right, lower) \n",
    "#The top left coordinates correspond to (x, y) = (left, upper)\n",
    "plt.show()"
   ]
  },
  {
   "cell_type": "code",
   "execution_count": null,
   "id": "77919078",
   "metadata": {},
   "outputs": [],
   "source": [
    "plt.figure(figsize=(10,10))\n",
    "plt.imshow(blur.crop(cut))#(left, upper, right, lower) \n",
    "#The top left coordinates correspond to (x, y) = (left, upper)\n",
    "plt.show()"
   ]
  },
  {
   "cell_type": "code",
   "execution_count": null,
   "id": "4e619b08",
   "metadata": {},
   "outputs": [],
   "source": [
    "RGBA2GRAY(negOut,'img',neglist, 47)"
   ]
  },
  {
   "cell_type": "code",
   "execution_count": null,
   "id": "c6a30967",
   "metadata": {},
   "outputs": [],
   "source": [
    "RGBA2GRAY(negOut,'img',neglist, 47)"
   ]
  },
  {
   "cell_type": "code",
   "execution_count": null,
   "id": "03c6bbd6",
   "metadata": {},
   "outputs": [],
   "source": [
    "def rawInfoGen(outputPath,outPathInner, imgList, strcut = 19):    \n",
    "    # (x, y, width, height).\n",
    "    with open(outputPath+'/info.dat', 'w') as file:\n",
    "        for filename in imgList:\n",
    "            shutil.copy(filename,outputPath+'/'+outPathInner)\n",
    "            coordinates = lowerFaceCut(filename)\n",
    "            file.write(outPathInner+'/'+filename[strcut:]+\" 1\" \n",
    "                       +' '+str(coordinates[0]) + ' '+str(coordinates[1]) + ' 240 300\\n')\n",
    "                       \n",
    "    return True"
   ]
  },
  {
   "cell_type": "code",
   "execution_count": null,
   "id": "b5552975",
   "metadata": {},
   "outputs": [],
   "source": [
    "root=\"../../../../Libraries/OpenCV/opencv3.4/neg/img\"\n",
    "neglist = sorted(glob.glob(root+'/*.jpg'),\n",
    "                      key=lambda x:float(re.findall(\"(\\d+)\",x)[0]))"
   ]
  },
  {
   "cell_type": "code",
   "execution_count": null,
   "id": "52ebf619",
   "metadata": {},
   "outputs": [],
   "source": [
    "negOut = '../../negGray'"
   ]
  },
  {
   "cell_type": "code",
   "execution_count": null,
   "id": "a8011590",
   "metadata": {},
   "outputs": [],
   "source": [
    "img.mode"
   ]
  }
 ],
 "metadata": {
  "kernelspec": {
   "display_name": "Python 3",
   "language": "python",
   "name": "python3"
  },
  "language_info": {
   "codemirror_mode": {
    "name": "ipython",
    "version": 3
   },
   "file_extension": ".py",
   "mimetype": "text/x-python",
   "name": "python",
   "nbconvert_exporter": "python",
   "pygments_lexer": "ipython3",
   "version": "3.7.6"
  }
 },
 "nbformat": 4,
 "nbformat_minor": 5
}
