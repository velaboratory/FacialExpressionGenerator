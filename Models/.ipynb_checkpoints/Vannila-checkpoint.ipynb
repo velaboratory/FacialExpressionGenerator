{
 "cells": [
  {
   "cell_type": "code",
   "execution_count": 1,
   "id": "13b4eaa7",
   "metadata": {},
   "outputs": [],
   "source": [
    "import time\n",
    "import cv2\n",
    "import os\n",
    "import random\n",
    "import numpy as np\n",
    "import matplotlib.pyplot as plt\n",
    "from PIL import Image\n",
    "import matplotlib.image as mpimg\n",
    "from collections import OrderedDict\n",
    "from skimage import io, transform\n",
    "from math import *\n",
    "#import xml.etree.ElementTree as ET\n",
    "import imutils\n",
    "import torch\n",
    "import torchvision\n",
    "import torch.nn as nn\n",
    "import torch.optim as optim\n",
    "import torch.nn.functional as F\n",
    "import torchvision.transforms.functional as TF\n",
    "from torchvision import datasets, models, transforms\n",
    "from torch.utils.data import Dataset\n",
    "from torch.utils.data import DataLoader\n",
    "import torchvision.datasets as dset\n",
    "from torch.optim import lr_scheduler"
   ]
  },
  {
   "cell_type": "markdown",
   "id": "9907dac8",
   "metadata": {},
   "source": [
    "## 0. test on GPU/ CUDA/ PyTorch"
   ]
  },
  {
   "cell_type": "code",
   "execution_count": 2,
   "id": "84c8273a",
   "metadata": {},
   "outputs": [],
   "source": [
    "# Number of GPUs available. Use 0 for CPU mode.\n",
    "ngpu = 1\n",
    "\n",
    "# Decide which device we want to run on\n",
    "device = torch.device(\"cuda:0\" if (torch.cuda.is_available() and ngpu > 0) else \"cpu\")"
   ]
  },
  {
   "cell_type": "code",
   "execution_count": 3,
   "id": "531cbed9",
   "metadata": {},
   "outputs": [
    {
     "data": {
      "text/plain": [
       "device(type='cuda', index=0)"
      ]
     },
     "execution_count": 3,
     "metadata": {},
     "output_type": "execute_result"
    }
   ],
   "source": [
    "device"
   ]
  },
  {
   "cell_type": "markdown",
   "id": "03c6e05d",
   "metadata": {},
   "source": [
    "# 1. Data loading and visualized helper functions"
   ]
  },
  {
   "cell_type": "markdown",
   "id": "54c9686f",
   "metadata": {},
   "source": [
    "### 1.1 my self defined helper function and loader"
   ]
  },
  {
   "cell_type": "code",
   "execution_count": 4,
   "id": "f235f9b3",
   "metadata": {},
   "outputs": [],
   "source": [
    "def picshow(img,title=\"pics\"):\n",
    "    num = len(img)\n",
    "    ax = np.ceil(np.sqrt(num)) \n",
    "    ay = np.rint(np.sqrt(num)) \n",
    "    fig =plt.figure()\n",
    "    plt.title(title)\n",
    "    plt.axis(\"off\")\n",
    "    for i in range(1,num+1):\n",
    "        sub = fig.add_subplot(ax,ay,i)\n",
    "        #sub.set_title(\"titre\",i)\n",
    "        sub.axis('off')\n",
    "        sub.imshow(cv2.cvtColor(img[i-1].transpose(1, 2, 0),\n",
    "                                              cv2.COLOR_BGR2RGB))\n",
    "                                #cv2.normalize(, None, alpha=0.0, beta=1.0, \n",
    "                                #norm_type=cv2.NORM_MINMAX, dtype=cv2.CV_32F))\n",
    "        #.astype(np.uint8)\n",
    "    plt.show()"
   ]
  },
  {
   "cell_type": "code",
   "execution_count": 6,
   "id": "f37f88e8",
   "metadata": {},
   "outputs": [],
   "source": [
    "def imgloader(filepath):\n",
    "    filelist = glob.glob(folderpath+'/*.png')\n",
    "    filelist=[filelist[i] for i in file_list]\n",
    "    DataP= np.array([cv2.resize(cv2.normalize(cv2.imread(fname), None, alpha=0, beta=1, \n",
    "                                   norm_type=cv2.NORM_MINMAX,\n",
    "                                       dtype=cv2.CV_32F),(320,240)).transpose((2, 0, 1))\n",
    "                     for fname in filelist ])\n",
    "    return torch.from_numpy(DataP).to(device) "
   ]
  },
  {
   "cell_type": "code",
   "execution_count": 59,
   "id": "2fb61c9c",
   "metadata": {},
   "outputs": [],
   "source": [
    "#torch.cat"
   ]
  },
  {
   "cell_type": "markdown",
   "id": "52d93401",
   "metadata": {},
   "source": [
    "### 1.2 PyTorch default suite tool loader "
   ]
  },
  {
   "cell_type": "code",
   "execution_count": 60,
   "id": "150a5a3c",
   "metadata": {
    "scrolled": true
   },
   "outputs": [
    {
     "name": "stdout",
     "output_type": "stream",
     "text": [
      "The length of Train set is 1620\n",
      "The length of Valid set is 180\n"
     ]
    }
   ],
   "source": [
    "dataset = dset.ImageFolder(root=\"BasicData\",\n",
    "                           transform=transforms.Compose([\n",
    "                               transforms.Grayscale(1),\n",
    "                               transforms.Resize((240,320)),\n",
    "                               transforms.ToTensor(),\n",
    "                               transforms.Normalize(( 0.5), ( 0.5)), # only one 0.5 as gray\n",
    "                           ]))\n",
    "#\n",
    "#dataloader = torch.utils.data.DataLoader(dataset, batch_size=5, shuffle=True, num_workers=0)\n",
    "\n",
    "# split the dataset into validation and test sets\n",
    "len_valid_set = int(0.1*len(dataset))\n",
    "len_train_set = len(dataset) - len_valid_set\n",
    "\n",
    "print(\"The length of Train set is {}\".format(len_train_set))\n",
    "print(\"The length of Valid set is {}\".format(len_valid_set))\n",
    "\n",
    "train_dataset , valid_dataset, = torch.utils.data.random_split(dataset,[len_train_set, len_valid_set ])\n",
    "# shuffle and batch the datasets\n",
    "# num_workers was 4\n",
    "train_loader = torch.utils.data.DataLoader(train_dataset, batch_size=10, shuffle=True, num_workers=0)\n",
    "valid_loader = torch.utils.data.DataLoader(valid_dataset, batch_size=5, shuffle=True, num_workers=0)"
   ]
  },
  {
   "cell_type": "markdown",
   "id": "75790d08",
   "metadata": {},
   "source": [
    "### 1.3  PyTorch's customized loader for data augmentation like adding noise  "
   ]
  },
  {
   "cell_type": "code",
   "execution_count": null,
   "id": "bc790c2a",
   "metadata": {},
   "outputs": [],
   "source": []
  },
  {
   "cell_type": "markdown",
   "id": "14b8da20",
   "metadata": {},
   "source": [
    "# 2. CNN Models"
   ]
  },
  {
   "cell_type": "markdown",
   "id": "d7d0f007",
   "metadata": {},
   "source": [
    "### 2.1 my self defined vannila network"
   ]
  },
  {
   "cell_type": "code",
   "execution_count": 43,
   "id": "4be90004",
   "metadata": {},
   "outputs": [],
   "source": [
    "nc = 8\n",
    "class BinaryClass(nn.Module):\n",
    "    def __init__(self,ngpu):\n",
    "        super(BinaryClass, self).__init__() # referring to the inherit class as nn.Module explicitly\n",
    "        self.ngpu = ngpu\n",
    "        self.main=nn.Sequential(\n",
    "        #torch.nn.Conv2d(in_channels, out_channels, kernel_size, stride=1, padding=0, dilation=1, \n",
    "        #groups=1, bias=True, padding_mode='zeros', device=None, dtype=None)    \n",
    "        #input is  1, 240, 320\n",
    "        nn.Conv2d(1 , nc, 4, 2, 1, bias=False),\n",
    "        nn.BatchNorm2d(nc), \n",
    "        nn.LeakyReLU(0.2, inplace=True),\n",
    "        # 120 x 160\n",
    "        nn.Conv2d(nc , nc*2, 4, 2, 1, bias=False),\n",
    "        nn.BatchNorm2d(nc*2), \n",
    "        nn.LeakyReLU(0.2, inplace=True),\n",
    "        # 60 x 80\n",
    "        nn.Conv2d(nc*2 , nc*2, 4, 2, 1, bias=False),\n",
    "        nn.BatchNorm2d(nc*2), \n",
    "        nn.LeakyReLU(0.2, inplace=True),\n",
    "        # 30 x 40\n",
    "        nn.Conv2d(nc*2 , nc, 4, 2, 1, bias=False),\n",
    "        nn.BatchNorm2d(nc), \n",
    "        nn.LeakyReLU(0.2, inplace=True),\n",
    "        # 15 x 20\n",
    "        nn.Flatten(),\n",
    "        nn.Linear(300*nc,2)\n",
    "        )\n",
    "    def forward(self,x):\n",
    "        return self.main(x)\n",
    "        "
   ]
  },
  {
   "cell_type": "code",
   "execution_count": 44,
   "id": "3f3a8290",
   "metadata": {},
   "outputs": [],
   "source": [
    "# custom weights initialization called on netG and netD\n",
    "def weights_init(m):\n",
    "    classname = m.__class__.__name__\n",
    "    if classname.find('Conv') != -1:\n",
    "        nn.init.normal_(m.weight.data, 0.0, 0.02)\n",
    "    elif classname.find('BatchNorm') != -1:\n",
    "        nn.init.normal_(m.weight.data, 1.0, 0.02)\n",
    "        nn.init.constant_(m.bias.data, 0)"
   ]
  },
  {
   "cell_type": "code",
   "execution_count": 45,
   "id": "ff4b4151",
   "metadata": {
    "scrolled": false
   },
   "outputs": [
    {
     "name": "stdout",
     "output_type": "stream",
     "text": [
      "BinaryClass(\n",
      "  (main): Sequential(\n",
      "    (0): Conv2d(1, 8, kernel_size=(4, 4), stride=(2, 2), padding=(1, 1), bias=False)\n",
      "    (1): BatchNorm2d(8, eps=1e-05, momentum=0.1, affine=True, track_running_stats=True)\n",
      "    (2): LeakyReLU(negative_slope=0.2, inplace=True)\n",
      "    (3): Conv2d(8, 16, kernel_size=(4, 4), stride=(2, 2), padding=(1, 1), bias=False)\n",
      "    (4): BatchNorm2d(16, eps=1e-05, momentum=0.1, affine=True, track_running_stats=True)\n",
      "    (5): LeakyReLU(negative_slope=0.2, inplace=True)\n",
      "    (6): Conv2d(16, 16, kernel_size=(4, 4), stride=(2, 2), padding=(1, 1), bias=False)\n",
      "    (7): BatchNorm2d(16, eps=1e-05, momentum=0.1, affine=True, track_running_stats=True)\n",
      "    (8): LeakyReLU(negative_slope=0.2, inplace=True)\n",
      "    (9): Conv2d(16, 8, kernel_size=(4, 4), stride=(2, 2), padding=(1, 1), bias=False)\n",
      "    (10): BatchNorm2d(8, eps=1e-05, momentum=0.1, affine=True, track_running_stats=True)\n",
      "    (11): LeakyReLU(negative_slope=0.2, inplace=True)\n",
      "    (12): Flatten(start_dim=1, end_dim=-1)\n",
      "    (13): Linear(in_features=2400, out_features=2, bias=True)\n",
      "  )\n",
      ")\n"
     ]
    }
   ],
   "source": [
    "# Initialize BCELoss function\n",
    "criterion = nn.BCELoss()\n",
    "\n",
    "# Learning rate for optimizers\n",
    "lr = 0.0002\n",
    "\n",
    "# Beta1 hyperparam for Adam optimizers\n",
    "beta1 = 0.5\n",
    "\n",
    "# Establish convention for real and fake labels during training\n",
    "real_label = 1.\n",
    "fake_label = 0.\n",
    "\n",
    "netD = BinaryClass(ngpu).to(device)\n",
    "#network.to(cuda) == network.cuda()\n",
    "\n",
    "# Apply the weights_init function to randomly initialize all weights\n",
    "#  to mean=0, stdev=0.2.\n",
    "netD.apply(weights_init)\n",
    "\n",
    "# Print the model\n",
    "print(netD)\n",
    "# Setup Adam optimizers for both G and D\n",
    "optimizerD = optim.Adam(netD.parameters(), lr=lr, betas=(beta1, 0.999),weight_decay=0.0) #\n"
   ]
  },
  {
   "cell_type": "code",
   "execution_count": 22,
   "id": "dbb10786",
   "metadata": {},
   "outputs": [],
   "source": [
    "test0=torch.ones(2,1,240,320).to(device) "
   ]
  },
  {
   "cell_type": "code",
   "execution_count": 47,
   "id": "72b4aa20",
   "metadata": {},
   "outputs": [],
   "source": [
    "result = netD(test0)"
   ]
  },
  {
   "cell_type": "code",
   "execution_count": 48,
   "id": "173ddb1d",
   "metadata": {},
   "outputs": [
    {
     "data": {
      "text/plain": [
       "torch.Size([2, 2])"
      ]
     },
     "execution_count": 48,
     "metadata": {},
     "output_type": "execute_result"
    }
   ],
   "source": [
    "result.shape"
   ]
  },
  {
   "cell_type": "code",
   "execution_count": 50,
   "id": "92cb1519",
   "metadata": {},
   "outputs": [
    {
     "data": {
      "text/plain": [
       "tensor([0.6815, 0.0422], grad_fn=<SelectBackward0>)"
      ]
     },
     "execution_count": 50,
     "metadata": {},
     "output_type": "execute_result"
    }
   ],
   "source": [
    "result.cpu()[0]"
   ]
  },
  {
   "cell_type": "code",
   "execution_count": null,
   "id": "d1a669a6",
   "metadata": {},
   "outputs": [],
   "source": []
  },
  {
   "cell_type": "markdown",
   "id": "d3430988",
   "metadata": {},
   "source": [
    "training"
   ]
  },
  {
   "cell_type": "code",
   "execution_count": 29,
   "id": "ea1bfc49",
   "metadata": {},
   "outputs": [],
   "source": [
    "loss_min = np.inf\n",
    "num_epochs = 10"
   ]
  },
  {
   "cell_type": "code",
   "execution_count": null,
   "id": "f187eff1",
   "metadata": {
    "scrolled": true
   },
   "outputs": [],
   "source": [
    "start_time = time.time()\n",
    "for epoch in range(1,num_epochs+1):\n",
    "\n",
    "    loss_train = 0\n",
    "    loss_valid = 0\n",
    "    running_loss = 0\n",
    "    netD.train()\n",
    "    for step in range(1,len(train_loader)+1):\n",
    "\n",
    "        images, labels = next(iter(train_loader))\n",
    "\n",
    "        images = images.cuda()\n",
    "        labels = labels.view(labels.size(0),-1).cuda() \n",
    "\n",
    "        predictions = netD(images)\n",
    "\n",
    "        # clear all the gradients before calculating them\n",
    "        optimizerD.zero_grad()\n",
    "\n",
    "        # find the loss for the current step\n",
    "        loss_train_step = criterion(predictions, labels)\n",
    "\n",
    "        # calculate the gradients\n",
    "        loss_train_step.backward()\n",
    "\n",
    "        # update the parameters\n",
    "        optimizer.step()\n",
    "\n",
    "        loss_train += loss_train_step.item()\n",
    "        running_loss = loss_train/step\n",
    "\n",
    "        #print_overwrite(step, len(train_loader), running_loss, 'train')\n",
    "        \n",
    "    netD.eval() \n",
    "    with torch.no_grad():\n",
    "        \n",
    "        for step in range(1,len(valid_loader)+1):\n",
    "            \n",
    "            images, labels = next(iter(valid_loader))\n",
    "        \n",
    "            images = images.cuda()\n",
    "            labels = labels.view(labels.size(0),-1).cuda()\n",
    "        \n",
    "            predictions = netD(images)\n",
    "\n",
    "            # find the loss for the current step\n",
    "            loss_valid_step = criterion(predictions, labels)\n",
    "\n",
    "            loss_valid += loss_valid_step.item()\n",
    "            running_loss = loss_valid/step\n",
    "\n",
    "            #print_overwrite(step, len(valid_loader), running_loss, 'valid')\n",
    "    \n",
    "    loss_train /= len(train_loader)\n",
    "    loss_valid /= len(valid_loader)\n",
    "    \n",
    "    print('\\n--------------------------------------------------')\n",
    "    print('Epoch: {}  Train Loss: {:.4f}  Valid Loss: {:.4f}'.format(epoch, loss_train, loss_valid))\n",
    "    print('--------------------------------------------------')\n",
    "    \n",
    "    if loss_valid < loss_min:\n",
    "        loss_min = loss_valid\n",
    "        torch.save(netD.state_dict(), 'face_labelsLower.pth') \n",
    "        print(\"\\nMinimum Validation Loss of {:.4f} at epoch {}/{}\".format(loss_min, epoch, num_epochs))\n",
    "        print('Model Saved\\n')\n",
    "     \n",
    "print('Training Complete')\n",
    "print(\"Total Elapsed Time : {} s\".format(time.time()-start_time))\n",
    "    "
   ]
  },
  {
   "cell_type": "markdown",
   "id": "069063f7",
   "metadata": {},
   "source": [
    "### 2.2 resnet18"
   ]
  },
  {
   "cell_type": "code",
   "execution_count": 83,
   "id": "00078890",
   "metadata": {},
   "outputs": [],
   "source": [
    "\n",
    "model_ft = models.resnet18()\n",
    "num_ftrs = model_ft.fc.in_features\n",
    "# Here the size of each output sample is set to 2.\n",
    "# Alternatively, it can be generalized to nn.Linear(num_ftrs, len(class_names)).\n",
    "model_ft.conv1=nn.Conv2d(1, 64, kernel_size=7, stride=2, padding=3, bias=False)\n",
    "model_ft.fc = nn.Linear(num_ftrs, 2)\n",
    "\n",
    "model_ft = model_ft.to(device)\n",
    "\n",
    "criterion2 = nn.CrossEntropyLoss()\n",
    "\n",
    "# Observe that all parameters are being optimized\n",
    "optimizer_ft = optim.SGD(model_ft.parameters(), lr=0.001, momentum=0.9)\n",
    "\n",
    "# Decay LR by a factor of 0.1 every 7 epochs\n",
    "exp_lr_scheduler = lr_scheduler.StepLR(optimizer_ft, step_size=7, gamma=0.1)"
   ]
  },
  {
   "cell_type": "code",
   "execution_count": 88,
   "id": "2c80aba8",
   "metadata": {},
   "outputs": [],
   "source": [
    "def train_model(model, criterion, optimizer, scheduler, num_epochs=25):\n",
    "    since = time.time()\n",
    "\n",
    "    #best_model_wts = copy.deepcopy(model.state_dict())\n",
    "    best_acc = 0.0\n",
    "\n",
    "    for epoch in range(num_epochs):\n",
    "        print(f'Epoch {epoch}/{num_epochs - 1}')\n",
    "        print('-' * 10)\n",
    "\n",
    "        # Each epoch has a training and validation phase\n",
    "        for phase in ['train', 'val']:\n",
    "            if phase == 'train':\n",
    "                model.train()  # Set model to training mode\n",
    "            else:\n",
    "                model.eval()   # Set model to evaluate mode\n",
    "\n",
    "            running_loss = 0.0\n",
    "            running_corrects = 0\n",
    "\n",
    "            # Iterate over data.\n",
    "            for inputs, labels in dataloaders[phase]:\n",
    "                inputs = inputs.to(device)\n",
    "                labels = labels.to(device)\n",
    "\n",
    "                # zero the parameter gradients\n",
    "                optimizer.zero_grad()\n",
    "\n",
    "                # forward\n",
    "                # track history if only in train\n",
    "                with torch.set_grad_enabled(phase == 'train'):\n",
    "                    outputs = model(inputs)\n",
    "                    _, preds = torch.max(outputs, 1)\n",
    "                    loss = criterion(outputs, labels)\n",
    "\n",
    "                    # backward + optimize only if in training phase\n",
    "                    if phase == 'train':\n",
    "                        loss.backward()\n",
    "                        optimizer.step()\n",
    "\n",
    "                # statistics\n",
    "                running_loss += loss.item() * inputs.size(0)\n",
    "                running_corrects += torch.sum(preds == labels.data)\n",
    "            if phase == 'train':\n",
    "                scheduler.step()\n",
    "\n",
    "            epoch_loss = running_loss / dataset_sizes[phase]\n",
    "            epoch_acc = running_corrects.double() / dataset_sizes[phase]\n",
    "\n",
    "            print(f'{phase} Loss: {epoch_loss:.4f} Acc: {epoch_acc:.4f}')\n",
    "\n",
    "            # deep copy the model\n",
    "            if phase == 'val' and epoch_acc > best_acc:\n",
    "                best_acc = epoch_acc\n",
    "                #best_model_wts = copy.deepcopy(model.state_dict())\n",
    "\n",
    "        print()\n",
    "\n",
    "    time_elapsed = time.time() - since\n",
    "    print(f'Training complete in {time_elapsed // 60:.0f}m {time_elapsed % 60:.0f}s')\n",
    "    print(f'Best val Acc: {best_acc:4f}')\n",
    "\n",
    "    # load best model weights\n",
    "    #model.load_state_dict(best_model_wts)\n",
    "    torch.save(model.state_dict(), 'resnet18.pth') \n",
    "    return model"
   ]
  },
  {
   "cell_type": "code",
   "execution_count": 77,
   "id": "0c4a227d",
   "metadata": {},
   "outputs": [],
   "source": [
    "dataloaders = {'train': train_loader, 'val' : valid_loader \n",
    "              }\n",
    "\n",
    "dataset_sizes = {'train': len_train_set, 'val' : len_valid_set   } \n"
   ]
  },
  {
   "cell_type": "code",
   "execution_count": 89,
   "id": "96a2163c",
   "metadata": {
    "scrolled": false
   },
   "outputs": [
    {
     "name": "stdout",
     "output_type": "stream",
     "text": [
      "Epoch 0/24\n",
      "----------\n",
      "train Loss: 0.1892 Acc: 0.9364\n",
      "val Loss: 0.3474 Acc: 0.8611\n",
      "\n",
      "Epoch 1/24\n",
      "----------\n",
      "train Loss: 0.1503 Acc: 0.9500\n",
      "val Loss: 1.4000 Acc: 0.5833\n",
      "\n",
      "Epoch 2/24\n",
      "----------\n",
      "train Loss: 0.1390 Acc: 0.9586\n",
      "val Loss: 0.1091 Acc: 0.9778\n",
      "\n",
      "Epoch 3/24\n",
      "----------\n",
      "train Loss: 0.1462 Acc: 0.9549\n",
      "val Loss: 0.2094 Acc: 0.9222\n",
      "\n",
      "Epoch 4/24\n",
      "----------\n",
      "train Loss: 0.1070 Acc: 0.9667\n",
      "val Loss: 0.1600 Acc: 0.9556\n",
      "\n",
      "Epoch 5/24\n",
      "----------\n",
      "train Loss: 0.0828 Acc: 0.9759\n",
      "val Loss: 0.1057 Acc: 0.9778\n",
      "\n",
      "Epoch 6/24\n",
      "----------\n",
      "train Loss: 0.0876 Acc: 0.9759\n",
      "val Loss: 0.1083 Acc: 0.9778\n",
      "\n",
      "Epoch 7/24\n",
      "----------\n",
      "train Loss: 0.0780 Acc: 0.9821\n",
      "val Loss: 0.1058 Acc: 0.9778\n",
      "\n",
      "Epoch 8/24\n",
      "----------\n",
      "train Loss: 0.0643 Acc: 0.9790\n",
      "val Loss: 0.1053 Acc: 0.9778\n",
      "\n",
      "Epoch 9/24\n",
      "----------\n",
      "train Loss: 0.0687 Acc: 0.9772\n",
      "val Loss: 0.1064 Acc: 0.9778\n",
      "\n",
      "Epoch 10/24\n",
      "----------\n",
      "train Loss: 0.0673 Acc: 0.9802\n",
      "val Loss: 0.1067 Acc: 0.9778\n",
      "\n",
      "Epoch 11/24\n",
      "----------\n",
      "train Loss: 0.0765 Acc: 0.9722\n",
      "val Loss: 0.1133 Acc: 0.9778\n",
      "\n",
      "Epoch 12/24\n",
      "----------\n",
      "train Loss: 0.0569 Acc: 0.9802\n",
      "val Loss: 0.1105 Acc: 0.9778\n",
      "\n",
      "Epoch 13/24\n",
      "----------\n",
      "train Loss: 0.0590 Acc: 0.9833\n",
      "val Loss: 0.1120 Acc: 0.9778\n",
      "\n",
      "Epoch 14/24\n",
      "----------\n",
      "train Loss: 0.0531 Acc: 0.9802\n",
      "val Loss: 0.1120 Acc: 0.9778\n",
      "\n",
      "Epoch 15/24\n",
      "----------\n",
      "train Loss: 0.0603 Acc: 0.9796\n",
      "val Loss: 0.1135 Acc: 0.9778\n",
      "\n",
      "Epoch 16/24\n",
      "----------\n",
      "train Loss: 0.0636 Acc: 0.9796\n",
      "val Loss: 0.1114 Acc: 0.9778\n",
      "\n",
      "Epoch 17/24\n",
      "----------\n",
      "train Loss: 0.0555 Acc: 0.9840\n",
      "val Loss: 0.1141 Acc: 0.9722\n",
      "\n",
      "Epoch 18/24\n",
      "----------\n",
      "train Loss: 0.0660 Acc: 0.9765\n",
      "val Loss: 0.1139 Acc: 0.9778\n",
      "\n",
      "Epoch 19/24\n",
      "----------\n",
      "train Loss: 0.0652 Acc: 0.9796\n",
      "val Loss: 0.1100 Acc: 0.9778\n",
      "\n",
      "Epoch 20/24\n",
      "----------\n",
      "train Loss: 0.0663 Acc: 0.9784\n",
      "val Loss: 0.1145 Acc: 0.9778\n",
      "\n",
      "Epoch 21/24\n",
      "----------\n",
      "train Loss: 0.0616 Acc: 0.9790\n",
      "val Loss: 0.1110 Acc: 0.9778\n",
      "\n",
      "Epoch 22/24\n",
      "----------\n",
      "train Loss: 0.0594 Acc: 0.9809\n",
      "val Loss: 0.1103 Acc: 0.9778\n",
      "\n",
      "Epoch 23/24\n",
      "----------\n",
      "train Loss: 0.0475 Acc: 0.9870\n",
      "val Loss: 0.1085 Acc: 0.9778\n",
      "\n",
      "Epoch 24/24\n",
      "----------\n",
      "train Loss: 0.0586 Acc: 0.9827\n",
      "val Loss: 0.1101 Acc: 0.9778\n",
      "\n",
      "Training complete in 12m 6s\n",
      "Best val Acc: 0.977778\n"
     ]
    }
   ],
   "source": [
    "model_ft = train_model(model_ft, criterion2, optimizer_ft, exp_lr_scheduler,\n",
    "                       num_epochs=25)"
   ]
  },
  {
   "cell_type": "code",
   "execution_count": 93,
   "id": "9cdbbee4",
   "metadata": {},
   "outputs": [],
   "source": [
    "class_names = dataset.classes"
   ]
  },
  {
   "cell_type": "code",
   "execution_count": 95,
   "id": "456929d0",
   "metadata": {},
   "outputs": [],
   "source": [
    "def imshow(inp, title=None):\n",
    "    \"\"\"Imshow for Tensor.\"\"\"\n",
    "    inp = inp.numpy().transpose((1, 2, 0))\n",
    "    mean = np.array([0.485, 0.456, 0.406])\n",
    "    std = np.array([0.229, 0.224, 0.225])\n",
    "    inp = std * inp + mean\n",
    "    inp = np.clip(inp, 0, 1)\n",
    "    plt.imshow(inp)\n",
    "    if title is not None:\n",
    "        plt.title(title)\n",
    "    plt.pause(0.001)  # pause a bit so that plots are updated"
   ]
  },
  {
   "cell_type": "code",
   "execution_count": 96,
   "id": "ce80b5f2",
   "metadata": {},
   "outputs": [],
   "source": [
    "def visualize_model(model, num_images=6):\n",
    "    was_training = model.training\n",
    "    model.eval()\n",
    "    images_so_far = 0\n",
    "    fig = plt.figure()\n",
    "\n",
    "    with torch.no_grad():\n",
    "        for i, (inputs, labels) in enumerate(dataloaders['val']):\n",
    "            inputs = inputs.to(device)\n",
    "            labels = labels.to(device)\n",
    "\n",
    "            outputs = model(inputs)\n",
    "            _, preds = torch.max(outputs, 1)\n",
    "\n",
    "            for j in range(inputs.size()[0]):\n",
    "                images_so_far += 1\n",
    "                ax = plt.subplot(num_images//2, 2, images_so_far)\n",
    "                ax.axis('off')\n",
    "                ax.set_title(f'predicted: {class_names[preds[j]]}')\n",
    "                imshow(inputs.cpu().data[j])\n",
    "\n",
    "                if images_so_far == num_images:\n",
    "                    model.train(mode=was_training)\n",
    "                    return\n",
    "        model.train(mode=was_training)"
   ]
  },
  {
   "cell_type": "code",
   "execution_count": 97,
   "id": "06c2821f",
   "metadata": {
    "scrolled": false
   },
   "outputs": [
    {
     "data": {
      "image/png": "[encoded data removed]",
      "text/plain": [
       "<Figure size 432x288 with 1 Axes>"
      ]
     },
     "metadata": {
      "needs_background": "light"
     },
     "output_type": "display_data"
    },
    {
     "data": {
      "image/png": "[encoded data removed]",
      "text/plain": [
       "<Figure size 432x288 with 1 Axes>"
      ]
     },
     "metadata": {
      "needs_background": "light"
     },
     "output_type": "display_data"
    },
    {
     "data": {
      "image/png": "[encoded data removed]",
      "text/plain": [
       "<Figure size 432x288 with 1 Axes>"
      ]
     },
     "metadata": {
      "needs_background": "light"
     },
     "output_type": "display_data"
    },
    {
     "data": {
      "image/png": "[encoded data removed]",
      "text/plain": [
       "<Figure size 432x288 with 1 Axes>"
      ]
     },
     "metadata": {
      "needs_background": "light"
     },
     "output_type": "display_data"
    },
    {
     "data": {
      "image/png": "[encoded data removed]",
      "text/plain": [
       "<Figure size 432x288 with 1 Axes>"
      ]
     },
     "metadata": {
      "needs_background": "light"
     },
     "output_type": "display_data"
    },
    {
     "data": {
      "image/png": "[encoded data removed]",
      "text/plain": [
       "<Figure size 432x288 with 1 Axes>"
      ]
     },
     "metadata": {
      "needs_background": "light"
     },
     "output_type": "display_data"
    }
   ],
   "source": [
    "visualize_model(model_ft)"
   ]
  },
  {
   "cell_type": "code",
   "execution_count": 100,
   "id": "f569dda1",
   "metadata": {},
   "outputs": [],
   "source": [
    "those = cv2.imread(\"yeah.png\")\n"
   ]
  },
  {
   "cell_type": "code",
   "execution_count": 101,
   "id": "3bc5ca5b",
   "metadata": {},
   "outputs": [],
   "source": [
    "these = TF.normalize(TF.to_tensor((cv2.cvtColor(those, cv2.COLOR_BGR2GRAY))), [0.5], [0.5]).unsqueeze(0)"
   ]
  },
  {
   "cell_type": "code",
   "execution_count": 104,
   "id": "466c0adc",
   "metadata": {},
   "outputs": [],
   "source": [
    "with torch.no_grad(): #To perform inference without Gradient Calculation.\n",
    "        outputs = model_ft(these.cuda())\n",
    "        _, preds = torch.max(outputs, 1)\n"
   ]
  },
  {
   "cell_type": "code",
   "execution_count": 105,
   "id": "b33c9401",
   "metadata": {
    "scrolled": true
   },
   "outputs": [
    {
     "data": {
      "text/plain": [
       "torch.Size([1])"
      ]
     },
     "execution_count": 105,
     "metadata": {},
     "output_type": "execute_result"
    }
   ],
   "source": [
    "preds.shape"
   ]
  },
  {
   "cell_type": "code",
   "execution_count": 122,
   "id": "77d3fde4",
   "metadata": {},
   "outputs": [
    {
     "data": {
      "text/plain": [
       "'close'"
      ]
     },
     "execution_count": 122,
     "metadata": {},
     "output_type": "execute_result"
    }
   ],
   "source": [
    "class_names[preds[0]]"
   ]
  },
  {
   "cell_type": "code",
   "execution_count": null,
   "id": "30368c08",
   "metadata": {
    "scrolled": true
   },
   "outputs": [],
   "source": [
    "plt.figure()\n",
    "plt.subplot()\n",
    "plt.title=class_names[preds[0]]\n",
    "plt.imshow(those)\n",
    "plt.axis(\"off\")\n",
    "print(class_names[preds[0]])"
   ]
  },
  {
   "cell_type": "code",
   "execution_count": 136,
   "id": "ed60c8ed",
   "metadata": {},
   "outputs": [
    {
     "data": {
      "text/plain": [
       "(224, 224, 3)"
      ]
     },
     "execution_count": 136,
     "metadata": {},
     "output_type": "execute_result"
    }
   ],
   "source": [
    "those.shape"
   ]
  },
  {
   "cell_type": "code",
   "execution_count": 146,
   "id": "1b89406e",
   "metadata": {},
   "outputs": [],
   "source": [
    "def OneStopPred(those,model = model_ft): #(FilePath,model = model_ft):\n",
    "    #those = cv2.imread(FilePath)\n",
    "    these = TF.normalize(TF.to_tensor((cv2.cvtColor(those, cv2.COLOR_BGR2GRAY))),  #\n",
    "                         [0.5], [0.5]).unsqueeze(0)\n",
    "    with torch.no_grad(): #To perform inference without Gradient Calculation.\n",
    "        outputs = model_ft(these.cuda())\n",
    "        _, preds = torch.max(outputs, 1)\n",
    "    result = class_names[preds[0]]\n",
    "    plt.title = result # does not work???\n",
    "    plt.imshow(those)\n",
    "    print(result) # okay... embarras to use it for now\n",
    "    "
   ]
  },
  {
   "cell_type": "code",
   "execution_count": null,
   "id": "3ffb6956",
   "metadata": {},
   "outputs": [],
   "source": [
    "l2shock.png"
   ]
  },
  {
   "cell_type": "code",
   "execution_count": null,
   "id": "dbb73674",
   "metadata": {},
   "outputs": [],
   "source": []
  },
  {
   "cell_type": "code",
   "execution_count": 132,
   "id": "01bdd1b2",
   "metadata": {},
   "outputs": [],
   "source": [
    "test = cv2.imread(\"r3close.png\")"
   ]
  },
  {
   "cell_type": "code",
   "execution_count": 140,
   "id": "a251b82c",
   "metadata": {},
   "outputs": [],
   "source": [
    "shock = cv2.imread(\"l2shock.png\")"
   ]
  },
  {
   "cell_type": "code",
   "execution_count": 134,
   "id": "d80ea381",
   "metadata": {},
   "outputs": [],
   "source": [
    "left = test [:,0:320]"
   ]
  },
  {
   "cell_type": "code",
   "execution_count": 149,
   "id": "3311ceef",
   "metadata": {},
   "outputs": [],
   "source": [
    "yeas = shock[60:280,20:320]"
   ]
  },
  {
   "cell_type": "code",
   "execution_count": 150,
   "id": "3ab3cee9",
   "metadata": {},
   "outputs": [
    {
     "data": {
      "text/plain": [
       "(220, 300, 3)"
      ]
     },
     "execution_count": 150,
     "metadata": {},
     "output_type": "execute_result"
    }
   ],
   "source": [
    "yeas.shape"
   ]
  },
  {
   "cell_type": "code",
   "execution_count": null,
   "id": "3a2f1638",
   "metadata": {},
   "outputs": [],
   "source": []
  },
  {
   "cell_type": "code",
   "execution_count": null,
   "id": "f97ed723",
   "metadata": {},
   "outputs": [],
   "source": [
    "plt.ims"
   ]
  },
  {
   "cell_type": "code",
   "execution_count": null,
   "id": "43915724",
   "metadata": {},
   "outputs": [],
   "source": []
  },
  {
   "cell_type": "code",
   "execution_count": null,
   "id": "efcb903e",
   "metadata": {},
   "outputs": [],
   "source": []
  },
  {
   "cell_type": "code",
   "execution_count": null,
   "id": "b5d1c7d3",
   "metadata": {},
   "outputs": [],
   "source": []
  },
  {
   "cell_type": "code",
   "execution_count": null,
   "id": "6569e760",
   "metadata": {},
   "outputs": [],
   "source": []
  },
  {
   "cell_type": "code",
   "execution_count": null,
   "id": "55fb7b45",
   "metadata": {},
   "outputs": [],
   "source": [
    "def BundlePred(images):\n",
    "    if len(images.shape)!=2: \n",
    "        gray = cv2.cvtColor(images, cv2.COLOR_BGR2GRAY)\n",
    "    else:\n",
    "        gray = images\n",
    "    if not gray.size == (224, 224):\n",
    "        #s=TF.resize(gray, size=(224, 224))\n",
    "        s = cv2.resize(gray, (224, 224))\n",
    "    \n",
    "    s = TF.normalize(TF.to_tensor((s)), [0.5], [0.5]).unsqueeze(0)\n",
    "    with torch.no_grad():\n",
    "        prediction = (best_network(s.cuda()).cpu() + 0.5) * 224 # invoke cuda() to use gpu run throu\n",
    "        prediction = prediction.view(-1,lowerFaceCounts,2)\n",
    "    plt.figure()\n",
    "    #plt.imshow(these[0].cpu().numpy().transpose(1,2,0).squeeze(), cmap='gray') # invoke cpu() and reshape\n",
    "    plt.imshow(cv2.resize(cv2.cvtColor(images,cv2.COLOR_BGR2RGB),(224, 224)))\n",
    "    \n",
    "    plt.scatter(prediction[0][:,0], prediction[0][:,1], c = 'r', s = 5)\n",
    "    plt.show()\n",
    "    return "
   ]
  },
  {
   "cell_type": "code",
   "execution_count": null,
   "id": "e10c1043",
   "metadata": {},
   "outputs": [],
   "source": []
  },
  {
   "cell_type": "code",
   "execution_count": null,
   "id": "3f20206e",
   "metadata": {},
   "outputs": [],
   "source": []
  },
  {
   "cell_type": "code",
   "execution_count": null,
   "id": "1a729dea",
   "metadata": {},
   "outputs": [],
   "source": [
    "datalen=DataMidAugmntedTensor.size(0)\n",
    "shuffle_list = list(range(0,datalen))\n",
    "batch_num=int(datalen/batch_size)\n",
    "random.shuffle(shuffle_list)\n",
    "real_img=DataMidAugmntedTensor[shuffle_list[i*batch_size:(i+1)*batch_size]].to(device)"
   ]
  },
  {
   "cell_type": "code",
   "execution_count": 55,
   "id": "583a7308",
   "metadata": {},
   "outputs": [],
   "source": [
    "OneBatch = next(iter(train_loader))\n",
    "\n",
    "OneBatch[0].shape"
   ]
  }
 ],
 "metadata": {
  "kernelspec": {
   "display_name": "Python 3",
   "language": "python",
   "name": "python3"
  },
  "language_info": {
   "codemirror_mode": {
    "name": "ipython",
    "version": 3
   },
   "file_extension": ".py",
   "mimetype": "text/x-python",
   "name": "python",
   "nbconvert_exporter": "python",
   "pygments_lexer": "ipython3",
   "version": "3.7.6"
  }
 },
 "nbformat": 4,
 "nbformat_minor": 5
}
